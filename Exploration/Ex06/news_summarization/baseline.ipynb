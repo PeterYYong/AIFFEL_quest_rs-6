{
 "cells": [
  {
   "cell_type": "code",
   "execution_count": 1,
   "metadata": {},
   "outputs": [
    {
     "name": "stderr",
     "output_type": "stream",
     "text": [
      "2024-12-01 20:49:19.207430: I tensorflow/core/util/port.cc:111] oneDNN custom operations are on. You may see slightly different numerical results due to floating-point round-off errors from different computation orders. To turn them off, set the environment variable `TF_ENABLE_ONEDNN_OPTS=0`.\n",
      "2024-12-01 20:49:19.226350: E tensorflow/compiler/xla/stream_executor/cuda/cuda_dnn.cc:9342] Unable to register cuDNN factory: Attempting to register factory for plugin cuDNN when one has already been registered\n",
      "2024-12-01 20:49:19.226364: E tensorflow/compiler/xla/stream_executor/cuda/cuda_fft.cc:609] Unable to register cuFFT factory: Attempting to register factory for plugin cuFFT when one has already been registered\n",
      "2024-12-01 20:49:19.226376: E tensorflow/compiler/xla/stream_executor/cuda/cuda_blas.cc:1518] Unable to register cuBLAS factory: Attempting to register factory for plugin cuBLAS when one has already been registered\n",
      "2024-12-01 20:49:19.229960: I tensorflow/core/platform/cpu_feature_guard.cc:182] This TensorFlow binary is optimized to use available CPU instructions in performance-critical operations.\n",
      "To enable the following instructions: AVX2 AVX_VNNI FMA, in other operations, rebuild TensorFlow with the appropriate compiler flags.\n"
     ]
    },
    {
     "name": "stdout",
     "output_type": "stream",
     "text": [
      "3.9.1\n",
      "2.14.0\n",
      "2.2.3\n",
      "1.2.0\n"
     ]
    }
   ],
   "source": [
    "from importlib.metadata import version\n",
    "import tensorflow as tf\n",
    "import summa\n",
    "import pandas as pd\n",
    "import nltk\n",
    "import numpy as np\n",
    "import os\n",
    "import re\n",
    "import matplotlib.pyplot as plt\n",
    "from nltk.corpus import stopwords\n",
    "from bs4 import BeautifulSoup\n",
    "from tensorflow import keras\n",
    "from keras.preprocessing.text import Tokenizer \n",
    "from keras.preprocessing.sequence import pad_sequences\n",
    "import urllib.request\n",
    "import warnings\n",
    "warnings.filterwarnings(\"ignore\", category=UserWarning, module='bs4')\n",
    "# nltk.download('stopwords')\n",
    "print(nltk.__version__)\n",
    "print(tf.__version__)\n",
    "print(pd.__version__)\n",
    "print(version('summa'))"
   ]
  },
  {
   "cell_type": "code",
   "execution_count": 2,
   "metadata": {},
   "outputs": [],
   "source": [
    "# import urllib.request\n",
    "# urllib.request.urlretrieve(\"https://raw.githubusercontent.com/sunnysai12345/News_Summary/master/news_summary_more.csv\", filename=\"./data/news_summary_more.csv\")\n",
    "data = pd.read_csv('./data/news_summary_more.csv', encoding='iso-8859-1')"
   ]
  },
  {
   "cell_type": "code",
   "execution_count": 3,
   "metadata": {},
   "outputs": [
    {
     "data": {
      "text/html": [
       "<div>\n",
       "<style scoped>\n",
       "    .dataframe tbody tr th:only-of-type {\n",
       "        vertical-align: middle;\n",
       "    }\n",
       "\n",
       "    .dataframe tbody tr th {\n",
       "        vertical-align: top;\n",
       "    }\n",
       "\n",
       "    .dataframe thead th {\n",
       "        text-align: right;\n",
       "    }\n",
       "</style>\n",
       "<table border=\"1\" class=\"dataframe\">\n",
       "  <thead>\n",
       "    <tr style=\"text-align: right;\">\n",
       "      <th></th>\n",
       "      <th>headlines</th>\n",
       "      <th>text</th>\n",
       "    </tr>\n",
       "  </thead>\n",
       "  <tbody>\n",
       "    <tr>\n",
       "      <th>62844</th>\n",
       "      <td>Indian women enter Hockey Asia Cup final for 4...</td>\n",
       "      <td>The Indian women's hockey team thrashed hosts ...</td>\n",
       "    </tr>\n",
       "    <tr>\n",
       "      <th>65072</th>\n",
       "      <td>Demonetisation, GST-themed firecrackers being ...</td>\n",
       "      <td>Firecracker shops in Uttar Pradesh have been s...</td>\n",
       "    </tr>\n",
       "    <tr>\n",
       "      <th>96247</th>\n",
       "      <td>FIFA bans Messi for 4 matches for abusing matc...</td>\n",
       "      <td>Argentina captain Lionel Messi has been banned...</td>\n",
       "    </tr>\n",
       "    <tr>\n",
       "      <th>90001</th>\n",
       "      <td>Pictures show Kangana Ranaut's house in Mumbai</td>\n",
       "      <td>Pictures of actress Kangana Ranaut's house in ...</td>\n",
       "    </tr>\n",
       "    <tr>\n",
       "      <th>83740</th>\n",
       "      <td>Delhi University announces first cut-off list ...</td>\n",
       "      <td>Delhi University has announced its first cut-o...</td>\n",
       "    </tr>\n",
       "    <tr>\n",
       "      <th>78568</th>\n",
       "      <td>Over Ã¢ÂÂ¹4 cr allocated to revive Delhi's Wa...</td>\n",
       "      <td>The Culture Ministry has allocated Ã¢ÂÂ¹4.22 ...</td>\n",
       "    </tr>\n",
       "    <tr>\n",
       "      <th>69670</th>\n",
       "      <td>Sindhu dedicates Korea Open victory to PM Nare...</td>\n",
       "      <td>Rio Olympics silver medal winning shuttler PV ...</td>\n",
       "    </tr>\n",
       "    <tr>\n",
       "      <th>11061</th>\n",
       "      <td>Man tries to sell kidney for Ã¢ÂÂ¹1.6 crore a...</td>\n",
       "      <td>Bengaluru man MB Somashekar tried to sell his ...</td>\n",
       "    </tr>\n",
       "    <tr>\n",
       "      <th>94273</th>\n",
       "      <td>40% faculty posts lying vacant at IITs, centra...</td>\n",
       "      <td>Union Human Resource Development Minister Prak...</td>\n",
       "    </tr>\n",
       "    <tr>\n",
       "      <th>89525</th>\n",
       "      <td>ED to base Mallya extradition case on money la...</td>\n",
       "      <td>The Enforcement Directorate will file a supple...</td>\n",
       "    </tr>\n",
       "  </tbody>\n",
       "</table>\n",
       "</div>"
      ],
      "text/plain": [
       "                                               headlines  \\\n",
       "62844  Indian women enter Hockey Asia Cup final for 4...   \n",
       "65072  Demonetisation, GST-themed firecrackers being ...   \n",
       "96247  FIFA bans Messi for 4 matches for abusing matc...   \n",
       "90001     Pictures show Kangana Ranaut's house in Mumbai   \n",
       "83740  Delhi University announces first cut-off list ...   \n",
       "78568  Over Ã¢ÂÂ¹4 cr allocated to revive Delhi's Wa...   \n",
       "69670  Sindhu dedicates Korea Open victory to PM Nare...   \n",
       "11061  Man tries to sell kidney for Ã¢ÂÂ¹1.6 crore a...   \n",
       "94273  40% faculty posts lying vacant at IITs, centra...   \n",
       "89525  ED to base Mallya extradition case on money la...   \n",
       "\n",
       "                                                    text  \n",
       "62844  The Indian women's hockey team thrashed hosts ...  \n",
       "65072  Firecracker shops in Uttar Pradesh have been s...  \n",
       "96247  Argentina captain Lionel Messi has been banned...  \n",
       "90001  Pictures of actress Kangana Ranaut's house in ...  \n",
       "83740  Delhi University has announced its first cut-o...  \n",
       "78568  The Culture Ministry has allocated Ã¢ÂÂ¹4.22 ...  \n",
       "69670  Rio Olympics silver medal winning shuttler PV ...  \n",
       "11061  Bengaluru man MB Somashekar tried to sell his ...  \n",
       "94273  Union Human Resource Development Minister Prak...  \n",
       "89525  The Enforcement Directorate will file a supple...  "
      ]
     },
     "execution_count": 3,
     "metadata": {},
     "output_type": "execute_result"
    }
   ],
   "source": [
    "data.sample(10)"
   ]
  },
  {
   "cell_type": "markdown",
   "metadata": {},
   "source": [
    "중복 제거"
   ]
  },
  {
   "cell_type": "code",
   "execution_count": 4,
   "metadata": {},
   "outputs": [
    {
     "name": "stdout",
     "output_type": "stream",
     "text": [
      "전체 샘플수 : 98401\n",
      "text 열에서 중복을 배제한 유일한 샘플의 수 : 98360\n",
      "headlines 열에서 중복을 배제한 유일한 샘플의 수 : 98280\n"
     ]
    }
   ],
   "source": [
    "print('전체 샘플수 :', (len(data)))\n",
    "print('text 열에서 중복을 배제한 유일한 샘플의 수 :', data['text'].nunique())\n",
    "print('headlines 열에서 중복을 배제한 유일한 샘플의 수 :', data['headlines'].nunique())"
   ]
  },
  {
   "cell_type": "code",
   "execution_count": 5,
   "metadata": {},
   "outputs": [
    {
     "name": "stdout",
     "output_type": "stream",
     "text": [
      "전체 샘플수 : 98360\n"
     ]
    }
   ],
   "source": [
    "data.drop_duplicates(subset = ['text'], inplace=True)\n",
    "print('전체 샘플수 :', (len(data)))"
   ]
  },
  {
   "cell_type": "code",
   "execution_count": 6,
   "metadata": {},
   "outputs": [
    {
     "name": "stdout",
     "output_type": "stream",
     "text": [
      "headlines    0\n",
      "text         0\n",
      "dtype: int64\n"
     ]
    }
   ],
   "source": [
    "print(data.isnull().sum())"
   ]
  },
  {
   "cell_type": "markdown",
   "metadata": {},
   "source": [
    "정규화 및 stopword 제거"
   ]
  },
  {
   "cell_type": "code",
   "execution_count": 7,
   "metadata": {},
   "outputs": [],
   "source": [
    "contractions = {\"ain't\": \"is not\", \"aren't\": \"are not\",\"can't\": \"cannot\", \"'cause\": \"because\", \"could've\": \"could have\", \"couldn't\": \"could not\",\n",
    "                           \"didn't\": \"did not\",  \"doesn't\": \"does not\", \"don't\": \"do not\", \"hadn't\": \"had not\", \"hasn't\": \"has not\", \"haven't\": \"have not\",\n",
    "                           \"he'd\": \"he would\",\"he'll\": \"he will\", \"he's\": \"he is\", \"how'd\": \"how did\", \"how'd'y\": \"how do you\", \"how'll\": \"how will\", \"how's\": \"how is\",\n",
    "                           \"I'd\": \"I would\", \"I'd've\": \"I would have\", \"I'll\": \"I will\", \"I'll've\": \"I will have\",\"I'm\": \"I am\", \"I've\": \"I have\", \"i'd\": \"i would\",\n",
    "                           \"i'd've\": \"i would have\", \"i'll\": \"i will\",  \"i'll've\": \"i will have\",\"i'm\": \"i am\", \"i've\": \"i have\", \"isn't\": \"is not\", \"it'd\": \"it would\",\n",
    "                           \"it'd've\": \"it would have\", \"it'll\": \"it will\", \"it'll've\": \"it will have\",\"it's\": \"it is\", \"let's\": \"let us\", \"ma'am\": \"madam\",\n",
    "                           \"mayn't\": \"may not\", \"might've\": \"might have\",\"mightn't\": \"might not\",\"mightn't've\": \"might not have\", \"must've\": \"must have\",\n",
    "                           \"mustn't\": \"must not\", \"mustn't've\": \"must not have\", \"needn't\": \"need not\", \"needn't've\": \"need not have\",\"o'clock\": \"of the clock\",\n",
    "                           \"oughtn't\": \"ought not\", \"oughtn't've\": \"ought not have\", \"shan't\": \"shall not\", \"sha'n't\": \"shall not\", \"shan't've\": \"shall not have\",\n",
    "                           \"she'd\": \"she would\", \"she'd've\": \"she would have\", \"she'll\": \"she will\", \"she'll've\": \"she will have\", \"she's\": \"she is\",\n",
    "                           \"should've\": \"should have\", \"shouldn't\": \"should not\", \"shouldn't've\": \"should not have\", \"so've\": \"so have\",\"so's\": \"so as\",\n",
    "                           \"this's\": \"this is\",\"that'd\": \"that would\", \"that'd've\": \"that would have\", \"that's\": \"that is\", \"there'd\": \"there would\",\n",
    "                           \"there'd've\": \"there would have\", \"there's\": \"there is\", \"here's\": \"here is\",\"they'd\": \"they would\", \"they'd've\": \"they would have\",\n",
    "                           \"they'll\": \"they will\", \"they'll've\": \"they will have\", \"they're\": \"they are\", \"they've\": \"they have\", \"to've\": \"to have\",\n",
    "                           \"wasn't\": \"was not\", \"we'd\": \"we would\", \"we'd've\": \"we would have\", \"we'll\": \"we will\", \"we'll've\": \"we will have\", \"we're\": \"we are\",\n",
    "                           \"we've\": \"we have\", \"weren't\": \"were not\", \"what'll\": \"what will\", \"what'll've\": \"what will have\", \"what're\": \"what are\",\n",
    "                           \"what's\": \"what is\", \"what've\": \"what have\", \"when's\": \"when is\", \"when've\": \"when have\", \"where'd\": \"where did\", \"where's\": \"where is\",\n",
    "                           \"where've\": \"where have\", \"who'll\": \"who will\", \"who'll've\": \"who will have\", \"who's\": \"who is\", \"who've\": \"who have\",\n",
    "                           \"why's\": \"why is\", \"why've\": \"why have\", \"will've\": \"will have\", \"won't\": \"will not\", \"won't've\": \"will not have\",\n",
    "                           \"would've\": \"would have\", \"wouldn't\": \"would not\", \"wouldn't've\": \"would not have\", \"y'all\": \"you all\",\n",
    "                           \"y'all'd\": \"you all would\",\"y'all'd've\": \"you all would have\",\"y'all're\": \"you all are\",\"y'all've\": \"you all have\",\n",
    "                           \"you'd\": \"you would\", \"you'd've\": \"you would have\", \"you'll\": \"you will\", \"you'll've\": \"you will have\",\n",
    "                           \"you're\": \"you are\", \"you've\": \"you have\"}"
   ]
  },
  {
   "cell_type": "code",
   "execution_count": 8,
   "metadata": {},
   "outputs": [],
   "source": [
    "# 데이터 전처리 함수\n",
    "def preprocess_sentence(sentence, remove_stopwords=True):\n",
    "    sentence = sentence.lower() # 텍스트 소문자화\n",
    "    sentence = BeautifulSoup(sentence, \"lxml\").text # <br />, <a href = ...> 등의 html 태그 제거\n",
    "    sentence = re.sub(r'\\([^)]*\\)', '', sentence) # 괄호로 닫힌 문자열 (...) 제거 Ex) my husband (and myself!) for => my husband for\n",
    "    sentence = re.sub('\"','', sentence) # 쌍따옴표 \" 제거\n",
    "    sentence = ' '.join([contractions[t] if t in contractions else t for t in sentence.split(\" \")]) # 약어 정규화\n",
    "    sentence = re.sub(r\"'s\\b\",\"\", sentence) # 소유격 제거. Ex) roland's -> roland\n",
    "    sentence = re.sub(\"[^a-zA-Z]\", \" \", sentence) # 영어 외 문자(숫자, 특수문자 등) 공백으로 변환\n",
    "    sentence = re.sub('[m]{2,}', 'mm', sentence) # m이 3개 이상이면 2개로 변경. Ex) ummmmmmm yeah -> umm yeah\n",
    "    \n",
    "    # 불용어 제거 (Text)\n",
    "    if remove_stopwords:\n",
    "        tokens = ' '.join(word for word in sentence.split() if not word in stopwords.words('english') if len(word) > 1)\n",
    "    # 불용어 미제거 (Summary)\n",
    "    else:\n",
    "        tokens = ' '.join(word for word in sentence.split() if len(word) > 1)\n",
    "    return tokens"
   ]
  },
  {
   "cell_type": "code",
   "execution_count": 9,
   "metadata": {},
   "outputs": [
    {
     "name": "stdout",
     "output_type": "stream",
     "text": [
      "Text 전처리 후 결과:  ['saurav kant alumnus upgrad iiit pg program machine learning artificial intelligence sr systems engineer infosys almost years work experience program upgrad degree career support helped transition data scientist tech mahindra salary hike upgrad online power learning powered lakh careers', 'kunal shah credit card bill payment platform cred gave users chance win free food swiggy one year pranav kaushik delhi techie bagged reward spending cred coins users get one cred coin per rupee bill paid used avail rewards brands like ixigo bookmyshow ubereats cult fit', 'new zealand defeated india wickets fourth odi hamilton thursday win first match five match odi series india lost international match rohit sharma captaincy consecutive victories dating back march match witnessed india getting seventh lowest total odi cricket history', 'aegon life iterm insurance plan customers enjoy tax benefits premiums paid save taxes plan provides life cover age years also customers options insure critical illnesses disability accidental death benefit rider life cover age years', 'speaking sexual harassment allegations rajkumar hirani sonam kapoor said known hirani many years true metoo movement get derailed metoo movement always believe woman case need reserve judgment added hirani accused assistant worked sanju']\n"
     ]
    }
   ],
   "source": [
    "# 전체 Text 데이터에 대한 전처리 : 10분 이상 시간이 걸릴 수 있습니다. \n",
    "clean_text = []\n",
    "\n",
    "# [[YOUR CODE]]\n",
    "clean_text = [preprocess_sentence(sentence, remove_stopwords=True) for sentence in data['text']]\n",
    "\n",
    "# 전처리 후 출력\n",
    "print(\"Text 전처리 후 결과: \", clean_text[:5])"
   ]
  },
  {
   "cell_type": "code",
   "execution_count": 10,
   "metadata": {},
   "outputs": [
    {
     "name": "stderr",
     "output_type": "stream",
     "text": [
      "/tmp/ipykernel_217721/966821911.py:4: MarkupResemblesLocatorWarning: The input looks more like a filename than markup. You may want to open this file and pass the filehandle into Beautiful Soup.\n",
      "  sentence = BeautifulSoup(sentence, \"lxml\").text # <br />, <a href = ...> 등의 html 태그 제거\n"
     ]
    },
    {
     "name": "stdout",
     "output_type": "stream",
     "text": [
      "Summary 전처리 후 결과:  ['upgrad learner switches to career in ml al with salary hike', 'delhi techie wins free food from swiggy for one year on cred', 'new zealand end rohit sharma led india match winning streak', 'aegon life iterm insurance plan helps customers save tax', 'have known hirani for yrs what if metoo claims are not true sonam']\n"
     ]
    }
   ],
   "source": [
    "# 전체 Summary 데이터에 대한 전처리 : 5분 이상 시간이 걸릴 수 있습니다. \n",
    "clean_summary = []\n",
    "\n",
    "# [[YOUR CODE]]\n",
    "clean_summary = [preprocess_sentence(sentence, remove_stopwords=False) for sentence in data['headlines']]\n",
    "\n",
    "print(\"Summary 전처리 후 결과: \", clean_summary[:5])"
   ]
  },
  {
   "cell_type": "code",
   "execution_count": 11,
   "metadata": {},
   "outputs": [],
   "source": [
    "data['text'] = clean_text\n",
    "data['headlines'] = clean_summary\n",
    "\n",
    "# 빈 값을 Null 값으로 변환\n",
    "data.replace('', np.nan, inplace=True)"
   ]
  },
  {
   "cell_type": "code",
   "execution_count": 12,
   "metadata": {},
   "outputs": [
    {
     "data": {
      "text/plain": [
       "headlines    0\n",
       "text         0\n",
       "dtype: int64"
      ]
     },
     "execution_count": 12,
     "metadata": {},
     "output_type": "execute_result"
    }
   ],
   "source": [
    "data.isnull().sum()"
   ]
  },
  {
   "cell_type": "code",
   "execution_count": 13,
   "metadata": {},
   "outputs": [
    {
     "name": "stdout",
     "output_type": "stream",
     "text": [
      "전체 샘플수 : 98360\n"
     ]
    }
   ],
   "source": [
    "data.dropna(axis=0, inplace=True)\n",
    "print('전체 샘플수 :', (len(data)))"
   ]
  },
  {
   "cell_type": "markdown",
   "metadata": {},
   "source": [
    "train, test split"
   ]
  },
  {
   "cell_type": "code",
   "execution_count": 14,
   "metadata": {},
   "outputs": [
    {
     "name": "stdout",
     "output_type": "stream",
     "text": [
      "텍스트의 최소 길이 : 1\n",
      "텍스트의 최대 길이 : 60\n",
      "텍스트의 평균 길이 : 35.09968483123221\n",
      "요약의 최소 길이 : 1\n",
      "요약의 최대 길이 : 16\n",
      "요약의 평균 길이 : 9.299532330215534\n"
     ]
    },
    {
     "data": {
      "image/png": "[encoded data removed]",
      "text/plain": [
       "<Figure size 640x480 with 2 Axes>"
      ]
     },
     "metadata": {},
     "output_type": "display_data"
    },
    {
     "data": {
      "image/png": "[encoded data removed]",
      "text/plain": [
       "<Figure size 640x480 with 1 Axes>"
      ]
     },
     "metadata": {},
     "output_type": "display_data"
    },
    {
     "data": {
      "image/png": "[encoded data removed]",
      "text/plain": [
       "<Figure size 640x480 with 1 Axes>"
      ]
     },
     "metadata": {},
     "output_type": "display_data"
    }
   ],
   "source": [
    "# 길이 분포 출력\n",
    "import matplotlib.pyplot as plt\n",
    "\n",
    "text_len = [len(s.split()) for s in data['text']]\n",
    "summary_len = [len(s.split()) for s in data['headlines']]\n",
    "\n",
    "print('텍스트의 최소 길이 : {}'.format(np.min(text_len)))\n",
    "print('텍스트의 최대 길이 : {}'.format(np.max(text_len)))\n",
    "print('텍스트의 평균 길이 : {}'.format(np.mean(text_len)))\n",
    "print('요약의 최소 길이 : {}'.format(np.min(summary_len)))\n",
    "print('요약의 최대 길이 : {}'.format(np.max(summary_len)))\n",
    "print('요약의 평균 길이 : {}'.format(np.mean(summary_len)))\n",
    "\n",
    "plt.subplot(1,2,1)\n",
    "plt.boxplot(text_len)\n",
    "plt.title('Text')\n",
    "plt.subplot(1,2,2)\n",
    "plt.boxplot(summary_len)\n",
    "plt.title('Summary')\n",
    "plt.tight_layout()\n",
    "plt.show()\n",
    "\n",
    "plt.title('Text')\n",
    "plt.hist(text_len, bins = 40)\n",
    "plt.xlabel('length of samples')\n",
    "plt.ylabel('number of samples')\n",
    "plt.show()\n",
    "\n",
    "plt.title('Summary')\n",
    "plt.hist(summary_len, bins = 40)\n",
    "plt.xlabel('length of samples')\n",
    "plt.ylabel('number of samples')\n",
    "plt.show()"
   ]
  },
  {
   "cell_type": "code",
   "execution_count": 15,
   "metadata": {},
   "outputs": [
    {
     "name": "stdout",
     "output_type": "stream",
     "text": [
      "text_max_len maxlen :  42\n",
      "summary_max_len maxlen :  12\n"
     ]
    }
   ],
   "source": [
    "text_max_len = int(np.mean(text_len) + 2 * np.std(text_len))\n",
    "summary_max_len = int(np.mean(summary_len) + 2 * np.std(summary_len))\n",
    "\n",
    "print('text_max_len maxlen : ', text_max_len)\n",
    "print('summary_max_len maxlen : ', summary_max_len)"
   ]
  },
  {
   "cell_type": "code",
   "execution_count": 16,
   "metadata": {},
   "outputs": [],
   "source": [
    "def below_threshold_len(max_len, nested_list):\n",
    "  cnt = 0\n",
    "  for s in nested_list:\n",
    "    if(len(s.split()) <= max_len):\n",
    "        cnt = cnt + 1\n",
    "  print('전체 샘플 중 길이가 %s 이하인 샘플의 비율: %s'%(max_len, (cnt / len(nested_list))))\n"
   ]
  },
  {
   "cell_type": "code",
   "execution_count": 17,
   "metadata": {},
   "outputs": [
    {
     "name": "stdout",
     "output_type": "stream",
     "text": [
      "전체 샘플 중 길이가 42 이하인 샘플의 비율: 0.9750305002033347\n",
      "전체 샘플 중 길이가 12 이하인 샘플의 비율: 0.9880337535583571\n"
     ]
    }
   ],
   "source": [
    "below_threshold_len(text_max_len, data['text'])\n",
    "below_threshold_len(summary_max_len,  data['headlines'])"
   ]
  },
  {
   "cell_type": "code",
   "execution_count": 18,
   "metadata": {},
   "outputs": [
    {
     "name": "stdout",
     "output_type": "stream",
     "text": [
      "전체 샘플수 : 94754\n"
     ]
    }
   ],
   "source": [
    "data = data[\n",
    "    (data['text'].apply(lambda x: len(x.split())<=text_max_len)) &\n",
    "    (data['headlines'].apply(lambda x: len(x.split())<=summary_max_len))\n",
    "]\n",
    "print('전체 샘플수 :', (len(data)))"
   ]
  },
  {
   "cell_type": "code",
   "execution_count": 19,
   "metadata": {},
   "outputs": [
    {
     "data": {
      "text/html": [
       "<div>\n",
       "<style scoped>\n",
       "    .dataframe tbody tr th:only-of-type {\n",
       "        vertical-align: middle;\n",
       "    }\n",
       "\n",
       "    .dataframe tbody tr th {\n",
       "        vertical-align: top;\n",
       "    }\n",
       "\n",
       "    .dataframe thead th {\n",
       "        text-align: right;\n",
       "    }\n",
       "</style>\n",
       "<table border=\"1\" class=\"dataframe\">\n",
       "  <thead>\n",
       "    <tr style=\"text-align: right;\">\n",
       "      <th></th>\n",
       "      <th>headlines</th>\n",
       "      <th>text</th>\n",
       "      <th>decoder_input</th>\n",
       "      <th>decoder_target</th>\n",
       "    </tr>\n",
       "  </thead>\n",
       "  <tbody>\n",
       "    <tr>\n",
       "      <th>0</th>\n",
       "      <td>upgrad learner switches to career in ml al wit...</td>\n",
       "      <td>saurav kant alumnus upgrad iiit pg program mac...</td>\n",
       "      <td>sostoken upgrad learner switches to career in ...</td>\n",
       "      <td>upgrad learner switches to career in ml al wit...</td>\n",
       "    </tr>\n",
       "    <tr>\n",
       "      <th>2</th>\n",
       "      <td>new zealand end rohit sharma led india match w...</td>\n",
       "      <td>new zealand defeated india wickets fourth odi ...</td>\n",
       "      <td>sostoken new zealand end rohit sharma led indi...</td>\n",
       "      <td>new zealand end rohit sharma led india match w...</td>\n",
       "    </tr>\n",
       "    <tr>\n",
       "      <th>3</th>\n",
       "      <td>aegon life iterm insurance plan helps customer...</td>\n",
       "      <td>aegon life iterm insurance plan customers enjo...</td>\n",
       "      <td>sostoken aegon life iterm insurance plan helps...</td>\n",
       "      <td>aegon life iterm insurance plan helps customer...</td>\n",
       "    </tr>\n",
       "    <tr>\n",
       "      <th>5</th>\n",
       "      <td>rahat fateh ali khan denies getting notice for...</td>\n",
       "      <td>pakistani singer rahat fateh ali khan denied r...</td>\n",
       "      <td>sostoken rahat fateh ali khan denies getting n...</td>\n",
       "      <td>rahat fateh ali khan denies getting notice for...</td>\n",
       "    </tr>\n",
       "    <tr>\n",
       "      <th>6</th>\n",
       "      <td>india get all out for their lowest odi total i...</td>\n",
       "      <td>india recorded lowest odi total new zealand ge...</td>\n",
       "      <td>sostoken india get all out for their lowest od...</td>\n",
       "      <td>india get all out for their lowest odi total i...</td>\n",
       "    </tr>\n",
       "  </tbody>\n",
       "</table>\n",
       "</div>"
      ],
      "text/plain": [
       "                                           headlines  \\\n",
       "0  upgrad learner switches to career in ml al wit...   \n",
       "2  new zealand end rohit sharma led india match w...   \n",
       "3  aegon life iterm insurance plan helps customer...   \n",
       "5  rahat fateh ali khan denies getting notice for...   \n",
       "6  india get all out for their lowest odi total i...   \n",
       "\n",
       "                                                text  \\\n",
       "0  saurav kant alumnus upgrad iiit pg program mac...   \n",
       "2  new zealand defeated india wickets fourth odi ...   \n",
       "3  aegon life iterm insurance plan customers enjo...   \n",
       "5  pakistani singer rahat fateh ali khan denied r...   \n",
       "6  india recorded lowest odi total new zealand ge...   \n",
       "\n",
       "                                       decoder_input  \\\n",
       "0  sostoken upgrad learner switches to career in ...   \n",
       "2  sostoken new zealand end rohit sharma led indi...   \n",
       "3  sostoken aegon life iterm insurance plan helps...   \n",
       "5  sostoken rahat fateh ali khan denies getting n...   \n",
       "6  sostoken india get all out for their lowest od...   \n",
       "\n",
       "                                      decoder_target  \n",
       "0  upgrad learner switches to career in ml al wit...  \n",
       "2  new zealand end rohit sharma led india match w...  \n",
       "3  aegon life iterm insurance plan helps customer...  \n",
       "5  rahat fateh ali khan denies getting notice for...  \n",
       "6  india get all out for their lowest odi total i...  "
      ]
     },
     "execution_count": 19,
     "metadata": {},
     "output_type": "execute_result"
    }
   ],
   "source": [
    "# 요약 데이터에는 시작 토큰과 종료 토큰을 추가한다.\n",
    "data['decoder_input'] = data['headlines'].apply(lambda x : 'sostoken '+ x)\n",
    "data['decoder_target'] = data['headlines'].apply(lambda x : x + ' eostoken')\n",
    "data.head()"
   ]
  },
  {
   "cell_type": "code",
   "execution_count": 20,
   "metadata": {},
   "outputs": [],
   "source": [
    "encoder_input = np.array(data['text']) # 인코더의 입력\n",
    "decoder_input = np.array(data['decoder_input']) # 디코더의 입력\n",
    "decoder_target = np.array(data['decoder_target']) # 디코더의 레이블"
   ]
  },
  {
   "cell_type": "code",
   "execution_count": 21,
   "metadata": {},
   "outputs": [
    {
     "name": "stdout",
     "output_type": "stream",
     "text": [
      "[ 2232  5818 68361 ... 32840 17231 58781]\n"
     ]
    }
   ],
   "source": [
    "indices = np.arange(encoder_input.shape[0])\n",
    "np.random.shuffle(indices)\n",
    "print(indices)"
   ]
  },
  {
   "cell_type": "code",
   "execution_count": 22,
   "metadata": {},
   "outputs": [],
   "source": [
    "encoder_input = encoder_input[indices]\n",
    "decoder_input = decoder_input[indices]\n",
    "decoder_target = decoder_target[indices]"
   ]
  },
  {
   "cell_type": "code",
   "execution_count": 23,
   "metadata": {},
   "outputs": [
    {
     "name": "stdout",
     "output_type": "stream",
     "text": [
      "테스트 데이터의 수 : 18950\n"
     ]
    }
   ],
   "source": [
    "n_of_val = int(len(encoder_input)*0.2)\n",
    "print('테스트 데이터의 수 :', n_of_val)"
   ]
  },
  {
   "cell_type": "code",
   "execution_count": 24,
   "metadata": {},
   "outputs": [
    {
     "name": "stdout",
     "output_type": "stream",
     "text": [
      "훈련 데이터의 개수 : 75804\n",
      "훈련 레이블의 개수 : 75804\n",
      "테스트 데이터의 개수 : 18950\n",
      "테스트 레이블의 개수 : 18950\n"
     ]
    }
   ],
   "source": [
    "encoder_input_train = encoder_input[:-n_of_val]\n",
    "decoder_input_train = decoder_input[:-n_of_val]\n",
    "decoder_target_train = decoder_target[:-n_of_val]\n",
    "\n",
    "encoder_input_test = encoder_input[-n_of_val:]\n",
    "decoder_input_test = decoder_input[-n_of_val:]\n",
    "decoder_target_test = decoder_target[-n_of_val:]\n",
    "\n",
    "print('훈련 데이터의 개수 :', len(encoder_input_train))\n",
    "print('훈련 레이블의 개수 :', len(decoder_input_train))\n",
    "print('테스트 데이터의 개수 :', len(encoder_input_test))\n",
    "print('테스트 레이블의 개수 :', len(decoder_input_test))"
   ]
  },
  {
   "cell_type": "markdown",
   "metadata": {},
   "source": [
    "정수 인코딩"
   ]
  },
  {
   "cell_type": "code",
   "execution_count": 25,
   "metadata": {},
   "outputs": [],
   "source": [
    "src_tokenizer = Tokenizer() # 토크나이저 정의\n",
    "src_tokenizer.fit_on_texts(encoder_input_train) # 입력된 데이터로부터 단어 집합 생성"
   ]
  },
  {
   "cell_type": "code",
   "execution_count": 26,
   "metadata": {},
   "outputs": [
    {
     "name": "stdout",
     "output_type": "stream",
     "text": [
      "단어 집합(vocabulary)의 크기 : 67828\n",
      "등장 빈도가 6번 이하인 희귀 단어의 수: 46115\n",
      "단어 집합에서 희귀 단어를 제외시킬 경우의 단어 집합의 크기 21713\n",
      "단어 집합에서 희귀 단어의 비율: 67.98814648817597\n",
      "전체 등장 빈도에서 희귀 단어 등장 빈도 비율: 3.551346787336068\n"
     ]
    }
   ],
   "source": [
    "threshold = 7\n",
    "total_cnt = len(src_tokenizer.word_index) # 단어의 수\n",
    "rare_cnt = 0 # 등장 빈도수가 threshold보다 작은 단어의 개수를 카운트\n",
    "total_freq = 0 # 훈련 데이터의 전체 단어 빈도수 총 합\n",
    "rare_freq = 0 # 등장 빈도수가 threshold보다 작은 단어의 등장 빈도수의 총 합\n",
    "\n",
    "# 단어와 빈도수의 쌍(pair)을 key와 value로 받는다.\n",
    "for key, value in src_tokenizer.word_counts.items():\n",
    "    total_freq = total_freq + value\n",
    "\n",
    "    # 단어의 등장 빈도수가 threshold보다 작으면\n",
    "    if(value < threshold):\n",
    "        rare_cnt = rare_cnt + 1\n",
    "        rare_freq = rare_freq + value\n",
    "\n",
    "print('단어 집합(vocabulary)의 크기 :', total_cnt)\n",
    "print('등장 빈도가 %s번 이하인 희귀 단어의 수: %s'%(threshold - 1, rare_cnt))\n",
    "print('단어 집합에서 희귀 단어를 제외시킬 경우의 단어 집합의 크기 %s'%(total_cnt - rare_cnt))\n",
    "print(\"단어 집합에서 희귀 단어의 비율:\", (rare_cnt / total_cnt)*100)\n",
    "print(\"전체 등장 빈도에서 희귀 단어 등장 빈도 비율:\", (rare_freq / total_freq)*100)"
   ]
  },
  {
   "cell_type": "code",
   "execution_count": 27,
   "metadata": {},
   "outputs": [],
   "source": [
    "src_vocab = 20000\n",
    "src_tokenizer = Tokenizer(num_words=src_vocab)\n",
    "src_tokenizer.fit_on_texts(encoder_input_train) # 단어 집합 재생성"
   ]
  },
  {
   "cell_type": "code",
   "execution_count": 28,
   "metadata": {},
   "outputs": [
    {
     "name": "stdout",
     "output_type": "stream",
     "text": [
      "[[4122, 1293, 10180, 18983, 2679, 3770, 3365, 180, 8909, 247, 467, 18983, 1, 5208, 24, 2853, 184, 8753, 705, 4, 140, 4122, 318], [165, 18, 3234, 243, 448, 624, 2416, 2088, 3214, 34, 669, 5074, 5255, 40, 572, 18984, 335, 236, 18, 2680, 51, 114, 47, 1364, 990, 2335, 516, 624, 122, 3041, 108, 624, 1094, 918, 2088, 235], [5075, 298, 11869, 3913, 839, 3441, 5256, 2441, 588, 13956, 607, 143, 1493, 143, 2540, 1003, 1093, 797, 1127, 143, 4566, 6013, 1529, 4420, 1294, 747, 495, 3330, 747, 936, 3056, 7235, 29, 31, 1529, 1353]]\n"
     ]
    }
   ],
   "source": [
    "# 텍스트 시퀀스를 정수 시퀀스로 변환\n",
    "encoder_input_train = src_tokenizer.texts_to_sequences(encoder_input_train) \n",
    "encoder_input_test = src_tokenizer.texts_to_sequences(encoder_input_test)\n",
    "\n",
    "# 잘 진행되었는지 샘플 출력\n",
    "print(encoder_input_train[:3])"
   ]
  },
  {
   "cell_type": "code",
   "execution_count": 29,
   "metadata": {},
   "outputs": [],
   "source": [
    "tar_tokenizer = Tokenizer()\n",
    "tar_tokenizer.fit_on_texts(decoder_input_train)"
   ]
  },
  {
   "cell_type": "code",
   "execution_count": 30,
   "metadata": {},
   "outputs": [
    {
     "name": "stdout",
     "output_type": "stream",
     "text": [
      "단어 집합(vocabulary)의 크기 : 29563\n",
      "등장 빈도가 5번 이하인 희귀 단어의 수: 19355\n",
      "단어 집합에서 희귀 단어를 제외시킬 경우의 단어 집합의 크기 10208\n",
      "단어 집합에서 희귀 단어의 비율: 65.47035145282955\n",
      "전체 등장 빈도에서 희귀 단어 등장 빈도 비율: 4.781592688959062\n"
     ]
    }
   ],
   "source": [
    "threshold = 6\n",
    "total_cnt = len(tar_tokenizer.word_index) # 단어의 수\n",
    "rare_cnt = 0 # 등장 빈도수가 threshold보다 작은 단어의 개수를 카운트\n",
    "total_freq = 0 # 훈련 데이터의 전체 단어 빈도수 총 합\n",
    "rare_freq = 0 # 등장 빈도수가 threshold보다 작은 단어의 등장 빈도수의 총 합\n",
    "\n",
    "# 단어와 빈도수의 쌍(pair)을 key와 value로 받는다.\n",
    "for key, value in tar_tokenizer.word_counts.items():\n",
    "    total_freq = total_freq + value\n",
    "\n",
    "    # 단어의 등장 빈도수가 threshold보다 작으면\n",
    "    if(value < threshold):\n",
    "        rare_cnt = rare_cnt + 1\n",
    "        rare_freq = rare_freq + value\n",
    "\n",
    "print('단어 집합(vocabulary)의 크기 :', total_cnt)\n",
    "print('등장 빈도가 %s번 이하인 희귀 단어의 수: %s'%(threshold - 1, rare_cnt))\n",
    "print('단어 집합에서 희귀 단어를 제외시킬 경우의 단어 집합의 크기 %s'%(total_cnt - rare_cnt))\n",
    "print(\"단어 집합에서 희귀 단어의 비율:\", (rare_cnt / total_cnt)*100)\n",
    "print(\"전체 등장 빈도에서 희귀 단어 등장 빈도 비율:\", (rare_freq / total_freq)*100)"
   ]
  },
  {
   "cell_type": "code",
   "execution_count": 31,
   "metadata": {},
   "outputs": [
    {
     "name": "stdout",
     "output_type": "stream",
     "text": [
      "input\n",
      "input  [[1, 6328, 3238, 9, 140, 136, 862, 4, 276], [1, 902, 3783, 549, 3, 66, 110, 7, 956, 537], [1, 5284, 25, 2551, 4, 538, 2707, 1498, 204, 16, 2335], [1, 18, 223, 214, 283, 7, 1229, 989, 114, 1361], [1, 4907, 191, 4727, 2372, 9, 8044]]\n",
      "target\n",
      "decoder  [[6328, 3238, 9, 140, 136, 862, 4, 276, 2], [902, 3783, 549, 3, 66, 110, 7, 956, 537, 2], [5284, 25, 2551, 4, 538, 2707, 1498, 204, 16, 2335, 2], [18, 223, 214, 283, 7, 1229, 989, 114, 1361, 2], [4907, 191, 4727, 2372, 9, 8044, 2]]\n"
     ]
    }
   ],
   "source": [
    "tar_vocab = 10000\n",
    "tar_tokenizer = Tokenizer(num_words=tar_vocab) \n",
    "tar_tokenizer.fit_on_texts(decoder_input_train)\n",
    "tar_tokenizer.fit_on_texts(decoder_target_train)\n",
    "\n",
    "# 텍스트 시퀀스를 정수 시퀀스로 변환\n",
    "decoder_input_train = tar_tokenizer.texts_to_sequences(decoder_input_train) \n",
    "decoder_target_train = tar_tokenizer.texts_to_sequences(decoder_target_train)\n",
    "decoder_input_test = tar_tokenizer.texts_to_sequences(decoder_input_test)\n",
    "decoder_target_test = tar_tokenizer.texts_to_sequences(decoder_target_test)\n",
    "\n",
    "# 잘 변환되었는지 확인\n",
    "print('input')\n",
    "print('input ',decoder_input_train[:5])\n",
    "print('target')\n",
    "print('decoder ',decoder_target_train[:5])"
   ]
  },
  {
   "cell_type": "code",
   "execution_count": 32,
   "metadata": {},
   "outputs": [
    {
     "name": "stdout",
     "output_type": "stream",
     "text": [
      "삭제할 훈련 데이터의 개수 : 0\n",
      "삭제할 테스트 데이터의 개수 : 0\n",
      "훈련 데이터의 개수 : 75804\n",
      "훈련 레이블의 개수 : 75804\n",
      "테스트 데이터의 개수 : 18950\n",
      "테스트 레이블의 개수 : 18950\n"
     ]
    }
   ],
   "source": [
    "drop_train = [index for index, sentence in enumerate(decoder_input_train) if len(sentence) == 1]\n",
    "drop_test = [index for index, sentence in enumerate(decoder_input_test) if len(sentence) == 1]\n",
    "\n",
    "print('삭제할 훈련 데이터의 개수 :', len(drop_train))\n",
    "print('삭제할 테스트 데이터의 개수 :', len(drop_test))\n",
    "\n",
    "encoder_input_train = [sentence for index, sentence in enumerate(encoder_input_train) if index not in drop_train]\n",
    "decoder_input_train = [sentence for index, sentence in enumerate(decoder_input_train) if index not in drop_train]\n",
    "decoder_target_train = [sentence for index, sentence in enumerate(decoder_target_train) if index not in drop_train]\n",
    "\n",
    "encoder_input_test = [sentence for index, sentence in enumerate(encoder_input_test) if index not in drop_test]\n",
    "decoder_input_test = [sentence for index, sentence in enumerate(decoder_input_test) if index not in drop_test]\n",
    "decoder_target_test = [sentence for index, sentence in enumerate(decoder_target_test) if index not in drop_test]\n",
    "\n",
    "print('훈련 데이터의 개수 :', len(encoder_input_train))\n",
    "print('훈련 레이블의 개수 :', len(decoder_input_train))\n",
    "print('테스트 데이터의 개수 :', len(encoder_input_test))\n",
    "print('테스트 레이블의 개수 :', len(decoder_input_test))"
   ]
  },
  {
   "cell_type": "code",
   "execution_count": 33,
   "metadata": {},
   "outputs": [],
   "source": [
    "encoder_input_train = pad_sequences(encoder_input_train, maxlen=text_max_len, padding='post')\n",
    "encoder_input_test = pad_sequences(encoder_input_test, maxlen=text_max_len, padding='post')\n",
    "decoder_input_train = pad_sequences(decoder_input_train, maxlen=summary_max_len, padding='post')\n",
    "decoder_target_train = pad_sequences(decoder_target_train, maxlen=summary_max_len, padding='post')\n",
    "decoder_input_test = pad_sequences(decoder_input_test, maxlen=summary_max_len, padding='post')\n",
    "decoder_target_test = pad_sequences(decoder_target_test, maxlen=summary_max_len, padding='post')"
   ]
  },
  {
   "cell_type": "markdown",
   "metadata": {},
   "source": [
    "모델 설계"
   ]
  },
  {
   "cell_type": "code",
   "execution_count": 34,
   "metadata": {},
   "outputs": [
    {
     "name": "stderr",
     "output_type": "stream",
     "text": [
      "2024-12-01 20:51:26.424770: I tensorflow/compiler/xla/stream_executor/cuda/cuda_gpu_executor.cc:894] successful NUMA node read from SysFS had negative value (-1), but there must be at least one NUMA node, so returning NUMA node zero. See more at https://github.com/torvalds/linux/blob/v6.0/Documentation/ABI/testing/sysfs-bus-pci#L344-L355\n",
      "2024-12-01 20:51:26.443973: I tensorflow/compiler/xla/stream_executor/cuda/cuda_gpu_executor.cc:894] successful NUMA node read from SysFS had negative value (-1), but there must be at least one NUMA node, so returning NUMA node zero. See more at https://github.com/torvalds/linux/blob/v6.0/Documentation/ABI/testing/sysfs-bus-pci#L344-L355\n",
      "2024-12-01 20:51:26.444067: I tensorflow/compiler/xla/stream_executor/cuda/cuda_gpu_executor.cc:894] successful NUMA node read from SysFS had negative value (-1), but there must be at least one NUMA node, so returning NUMA node zero. See more at https://github.com/torvalds/linux/blob/v6.0/Documentation/ABI/testing/sysfs-bus-pci#L344-L355\n",
      "2024-12-01 20:51:26.445212: I tensorflow/compiler/xla/stream_executor/cuda/cuda_gpu_executor.cc:894] successful NUMA node read from SysFS had negative value (-1), but there must be at least one NUMA node, so returning NUMA node zero. See more at https://github.com/torvalds/linux/blob/v6.0/Documentation/ABI/testing/sysfs-bus-pci#L344-L355\n",
      "2024-12-01 20:51:26.445267: I tensorflow/compiler/xla/stream_executor/cuda/cuda_gpu_executor.cc:894] successful NUMA node read from SysFS had negative value (-1), but there must be at least one NUMA node, so returning NUMA node zero. See more at https://github.com/torvalds/linux/blob/v6.0/Documentation/ABI/testing/sysfs-bus-pci#L344-L355\n",
      "2024-12-01 20:51:26.445303: I tensorflow/compiler/xla/stream_executor/cuda/cuda_gpu_executor.cc:894] successful NUMA node read from SysFS had negative value (-1), but there must be at least one NUMA node, so returning NUMA node zero. See more at https://github.com/torvalds/linux/blob/v6.0/Documentation/ABI/testing/sysfs-bus-pci#L344-L355\n",
      "2024-12-01 20:51:26.484897: I tensorflow/compiler/xla/stream_executor/cuda/cuda_gpu_executor.cc:894] successful NUMA node read from SysFS had negative value (-1), but there must be at least one NUMA node, so returning NUMA node zero. See more at https://github.com/torvalds/linux/blob/v6.0/Documentation/ABI/testing/sysfs-bus-pci#L344-L355\n",
      "2024-12-01 20:51:26.484967: I tensorflow/compiler/xla/stream_executor/cuda/cuda_gpu_executor.cc:894] successful NUMA node read from SysFS had negative value (-1), but there must be at least one NUMA node, so returning NUMA node zero. See more at https://github.com/torvalds/linux/blob/v6.0/Documentation/ABI/testing/sysfs-bus-pci#L344-L355\n",
      "2024-12-01 20:51:26.485020: I tensorflow/compiler/xla/stream_executor/cuda/cuda_gpu_executor.cc:894] successful NUMA node read from SysFS had negative value (-1), but there must be at least one NUMA node, so returning NUMA node zero. See more at https://github.com/torvalds/linux/blob/v6.0/Documentation/ABI/testing/sysfs-bus-pci#L344-L355\n",
      "2024-12-01 20:51:26.485059: I tensorflow/core/common_runtime/gpu/gpu_device.cc:1886] Created device /job:localhost/replica:0/task:0/device:GPU:0 with 22260 MB memory:  -> device: 0, name: NVIDIA GeForce RTX 4090, pci bus id: 0000:01:00.0, compute capability: 8.9\n"
     ]
    }
   ],
   "source": [
    "from keras.layers import Input, LSTM, Embedding, Dense, Concatenate, TimeDistributed\n",
    "from keras.models import Model\n",
    "from keras.callbacks import EarlyStopping, ModelCheckpoint\n",
    "\n",
    "\n",
    "# 인코더 설계 시작\n",
    "embedding_dim = 128\n",
    "hidden_size = 256\n",
    "\n",
    "# 인코더\n",
    "encoder_inputs = Input(shape=(text_max_len,))\n",
    "\n",
    "# 임베딩 층\n",
    "enc_emb = Embedding(src_vocab, embedding_dim)(encoder_inputs)\n",
    "\n",
    "# LSTM 1\n",
    "encoder_lstm1 = LSTM(hidden_size, return_sequences=True, return_state=True, dropout=0.4)\n",
    "encoder_output1, state_h1, state_c1 = encoder_lstm1(enc_emb)\n",
    "\n",
    "# LSTM 2\n",
    "encoder_lstm2 = LSTM(hidden_size, return_sequences=True, return_state=True, dropout=0.4)\n",
    "encoder_output2, state_h2, state_c2 = encoder_lstm2(encoder_output1)\n",
    "\n",
    "# LSTM 3\n",
    "encoder_lstm3 = LSTM(hidden_size, return_sequences=True, return_state=True, dropout=0.4)\n",
    "encoder_output3, state_h3, state_c3 = encoder_lstm3(encoder_output2)"
   ]
  },
  {
   "cell_type": "code",
   "execution_count": 35,
   "metadata": {},
   "outputs": [],
   "source": [
    "# 디코더 설계\n",
    "decoder_inputs = Input(shape=(None,))\n",
    "\n",
    "# 디코더의 임베딩 층\n",
    "dec_emb_layer = Embedding(tar_vocab, embedding_dim)\n",
    "dec_emb = dec_emb_layer(decoder_inputs)\n",
    "\n",
    "# 디코더의 LSTM\n",
    "# decoder_lstm = LSTM(hidden_size, return_sequences=True, return_state=True, dropout=0.4, recurrent_dropout=0.2)\n",
    "decoder_lstm = LSTM(hidden_size, return_sequences=True, return_state=True, dropout=0.4)\n",
    "decoder_outputs, _, _ = decoder_lstm(dec_emb, initial_state=[state_h3, state_c3])"
   ]
  },
  {
   "cell_type": "code",
   "execution_count": 36,
   "metadata": {},
   "outputs": [
    {
     "name": "stdout",
     "output_type": "stream",
     "text": [
      "Model: \"model\"\n",
      "__________________________________________________________________________________________________\n",
      " Layer (type)                Output Shape                 Param #   Connected to                  \n",
      "==================================================================================================\n",
      " input_1 (InputLayer)        [(None, 42)]                 0         []                            \n",
      "                                                                                                  \n",
      " embedding (Embedding)       (None, 42, 128)              2560000   ['input_1[0][0]']             \n",
      "                                                                                                  \n",
      " lstm (LSTM)                 [(None, 42, 256),            394240    ['embedding[0][0]']           \n",
      "                              (None, 256),                                                        \n",
      "                              (None, 256)]                                                        \n",
      "                                                                                                  \n",
      " input_2 (InputLayer)        [(None, None)]               0         []                            \n",
      "                                                                                                  \n",
      " lstm_1 (LSTM)               [(None, 42, 256),            525312    ['lstm[0][0]']                \n",
      "                              (None, 256),                                                        \n",
      "                              (None, 256)]                                                        \n",
      "                                                                                                  \n",
      " embedding_1 (Embedding)     (None, None, 128)            1280000   ['input_2[0][0]']             \n",
      "                                                                                                  \n",
      " lstm_2 (LSTM)               [(None, 42, 256),            525312    ['lstm_1[0][0]']              \n",
      "                              (None, 256),                                                        \n",
      "                              (None, 256)]                                                        \n",
      "                                                                                                  \n",
      " lstm_3 (LSTM)               [(None, None, 256),          394240    ['embedding_1[0][0]',         \n",
      "                              (None, 256),                           'lstm_2[0][1]',              \n",
      "                              (None, 256)]                           'lstm_2[0][2]']              \n",
      "                                                                                                  \n",
      " dense (Dense)               (None, None, 10000)          2570000   ['lstm_3[0][0]']              \n",
      "                                                                                                  \n",
      "==================================================================================================\n",
      "Total params: 8249104 (31.47 MB)\n",
      "Trainable params: 8249104 (31.47 MB)\n",
      "Non-trainable params: 0 (0.00 Byte)\n",
      "__________________________________________________________________________________________________\n"
     ]
    }
   ],
   "source": [
    "# 디코더의 출력층\n",
    "decoder_softmax_layer = Dense(tar_vocab, activation='softmax')\n",
    "decoder_softmax_outputs = decoder_softmax_layer(decoder_outputs) \n",
    "\n",
    "# 모델 정의\n",
    "model = Model([encoder_inputs, decoder_inputs], decoder_softmax_outputs)\n",
    "model.summary()"
   ]
  },
  {
   "cell_type": "code",
   "execution_count": 37,
   "metadata": {},
   "outputs": [
    {
     "name": "stdout",
     "output_type": "stream",
     "text": [
      "Model: \"model_1\"\n",
      "__________________________________________________________________________________________________\n",
      " Layer (type)                Output Shape                 Param #   Connected to                  \n",
      "==================================================================================================\n",
      " input_1 (InputLayer)        [(None, 42)]                 0         []                            \n",
      "                                                                                                  \n",
      " embedding (Embedding)       (None, 42, 128)              2560000   ['input_1[0][0]']             \n",
      "                                                                                                  \n",
      " lstm (LSTM)                 [(None, 42, 256),            394240    ['embedding[0][0]']           \n",
      "                              (None, 256),                                                        \n",
      "                              (None, 256)]                                                        \n",
      "                                                                                                  \n",
      " input_2 (InputLayer)        [(None, None)]               0         []                            \n",
      "                                                                                                  \n",
      " lstm_1 (LSTM)               [(None, 42, 256),            525312    ['lstm[0][0]']                \n",
      "                              (None, 256),                                                        \n",
      "                              (None, 256)]                                                        \n",
      "                                                                                                  \n",
      " embedding_1 (Embedding)     (None, None, 128)            1280000   ['input_2[0][0]']             \n",
      "                                                                                                  \n",
      " lstm_2 (LSTM)               [(None, 42, 256),            525312    ['lstm_1[0][0]']              \n",
      "                              (None, 256),                                                        \n",
      "                              (None, 256)]                                                        \n",
      "                                                                                                  \n",
      " lstm_3 (LSTM)               [(None, None, 256),          394240    ['embedding_1[0][0]',         \n",
      "                              (None, 256),                           'lstm_2[0][1]',              \n",
      "                              (None, 256)]                           'lstm_2[0][2]']              \n",
      "                                                                                                  \n",
      " attention_layer (AdditiveA  (None, None, 256)            256       ['lstm_3[0][0]',              \n",
      " ttention)                                                           'lstm_2[0][0]']              \n",
      "                                                                                                  \n",
      " concat_layer (Concatenate)  (None, None, 512)            0         ['lstm_3[0][0]',              \n",
      "                                                                     'attention_layer[0][0]']     \n",
      "                                                                                                  \n",
      " dense_1 (Dense)             (None, None, 10000)          5130000   ['concat_layer[0][0]']        \n",
      "                                                                                                  \n",
      "==================================================================================================\n",
      "Total params: 10809360 (41.23 MB)\n",
      "Trainable params: 10809360 (41.23 MB)\n",
      "Non-trainable params: 0 (0.00 Byte)\n",
      "__________________________________________________________________________________________________\n"
     ]
    }
   ],
   "source": [
    "from keras.layers import AdditiveAttention\n",
    "\n",
    "# 어텐션 층(어텐션 함수)\n",
    "attn_layer = AdditiveAttention(name='attention_layer')\n",
    "\n",
    "# 인코더와 디코더의 모든 time step의 hidden state를 어텐션 층에 전달하고 결과를 리턴\n",
    "attn_out = attn_layer([decoder_outputs, encoder_output3])\n",
    "\n",
    "\n",
    "# 어텐션의 결과와 디코더의 hidden state들을 연결\n",
    "decoder_concat_input = Concatenate(axis=-1, name='concat_layer')([decoder_outputs, attn_out])\n",
    "\n",
    "# 디코더의 출력층\n",
    "decoder_softmax_layer = Dense(tar_vocab, activation='softmax')\n",
    "decoder_softmax_outputs = decoder_softmax_layer(decoder_concat_input)\n",
    "\n",
    "# 모델 정의\n",
    "model = Model([encoder_inputs, decoder_inputs], decoder_softmax_outputs)\n",
    "model.summary()"
   ]
  },
  {
   "cell_type": "code",
   "execution_count": 38,
   "metadata": {},
   "outputs": [
    {
     "name": "stdout",
     "output_type": "stream",
     "text": [
      "Epoch 1/100\n"
     ]
    },
    {
     "name": "stderr",
     "output_type": "stream",
     "text": [
      "2024-12-01 20:51:28.814091: W tensorflow/core/grappler/costs/op_level_cost_estimator.cc:693] Error in PredictCost() for the op: op: \"Softmax\" attr { key: \"T\" value { type: DT_FLOAT } } inputs { dtype: DT_FLOAT shape { unknown_rank: true } } device { type: \"GPU\" vendor: \"NVIDIA\" model: \"NVIDIA GeForce RTX 4090\" frequency: 2520 num_cores: 128 environment { key: \"architecture\" value: \"8.9\" } environment { key: \"cuda\" value: \"11080\" } environment { key: \"cudnn\" value: \"8600\" } num_registers: 65536 l1_cache_size: 24576 l2_cache_size: 75497472 shared_memory_size_per_multiprocessor: 102400 memory_size: 23341629440 bandwidth: 1008096000 } outputs { dtype: DT_FLOAT shape { unknown_rank: true } }\n",
      "2024-12-01 20:51:29.311062: I tensorflow/compiler/xla/stream_executor/cuda/cuda_dnn.cc:442] Loaded cuDNN version 8600\n",
      "2024-12-01 20:51:29.375817: I tensorflow/compiler/xla/service/service.cc:168] XLA service 0x7f20781e50d0 initialized for platform CUDA (this does not guarantee that XLA will be used). Devices:\n",
      "2024-12-01 20:51:29.375830: I tensorflow/compiler/xla/service/service.cc:176]   StreamExecutor device (0): NVIDIA GeForce RTX 4090, Compute Capability 8.9\n",
      "2024-12-01 20:51:29.377904: I tensorflow/compiler/mlir/tensorflow/utils/dump_mlir_util.cc:269] disabling MLIR crash reproducer, set env var `MLIR_CRASH_REPRODUCER_DIRECTORY` to enable.\n",
      "2024-12-01 20:51:29.409232: I ./tensorflow/compiler/jit/device_compiler.h:186] Compiled cluster using XLA!  This line is logged at most once for the lifetime of the process.\n"
     ]
    },
    {
     "name": "stdout",
     "output_type": "stream",
     "text": [
      "297/297 [==============================] - ETA: 0s - loss: 5.8969"
     ]
    },
    {
     "name": "stderr",
     "output_type": "stream",
     "text": [
      "2024-12-01 20:51:37.369810: W tensorflow/core/grappler/costs/op_level_cost_estimator.cc:693] Error in PredictCost() for the op: op: \"Softmax\" attr { key: \"T\" value { type: DT_FLOAT } } inputs { dtype: DT_FLOAT shape { unknown_rank: true } } device { type: \"GPU\" vendor: \"NVIDIA\" model: \"NVIDIA GeForce RTX 4090\" frequency: 2520 num_cores: 128 environment { key: \"architecture\" value: \"8.9\" } environment { key: \"cuda\" value: \"11080\" } environment { key: \"cudnn\" value: \"8600\" } num_registers: 65536 l1_cache_size: 24576 l2_cache_size: 75497472 shared_memory_size_per_multiprocessor: 102400 memory_size: 23341629440 bandwidth: 1008096000 } outputs { dtype: DT_FLOAT shape { unknown_rank: true } }\n"
     ]
    },
    {
     "name": "stdout",
     "output_type": "stream",
     "text": [
      "297/297 [==============================] - 11s 28ms/step - loss: 5.8969 - val_loss: 5.5816\n",
      "Epoch 2/100\n",
      "297/297 [==============================] - 6s 19ms/step - loss: 5.5832 - val_loss: 5.4945\n",
      "Epoch 3/100\n",
      "297/297 [==============================] - 5s 17ms/step - loss: 5.4773 - val_loss: 5.3922\n",
      "Epoch 4/100\n",
      "297/297 [==============================] - 5s 16ms/step - loss: 5.3640 - val_loss: 5.3097\n",
      "Epoch 5/100\n",
      "297/297 [==============================] - 5s 16ms/step - loss: 5.2212 - val_loss: 5.1308\n",
      "Epoch 6/100\n",
      "297/297 [==============================] - 5s 16ms/step - loss: 5.0736 - val_loss: 5.0240\n",
      "Epoch 7/100\n",
      "297/297 [==============================] - 5s 16ms/step - loss: 4.9417 - val_loss: 4.9112\n",
      "Epoch 8/100\n",
      "297/297 [==============================] - 5s 16ms/step - loss: 4.8321 - val_loss: 4.8340\n",
      "Epoch 9/100\n",
      "297/297 [==============================] - 5s 16ms/step - loss: 4.7384 - val_loss: 4.7666\n",
      "Epoch 10/100\n",
      "297/297 [==============================] - 5s 16ms/step - loss: 4.6498 - val_loss: 4.6836\n",
      "Epoch 11/100\n",
      "297/297 [==============================] - 5s 16ms/step - loss: 4.5616 - val_loss: 4.6237\n",
      "Epoch 12/100\n",
      "297/297 [==============================] - 5s 16ms/step - loss: 4.4761 - val_loss: 4.5863\n",
      "Epoch 13/100\n",
      "297/297 [==============================] - 5s 16ms/step - loss: 4.3973 - val_loss: 4.4837\n",
      "Epoch 14/100\n",
      "297/297 [==============================] - 5s 16ms/step - loss: 4.3224 - val_loss: 4.4516\n",
      "Epoch 15/100\n",
      "297/297 [==============================] - 5s 16ms/step - loss: 4.2502 - val_loss: 4.3884\n",
      "Epoch 16/100\n",
      "297/297 [==============================] - 5s 16ms/step - loss: 4.1807 - val_loss: 4.3623\n",
      "Epoch 17/100\n",
      "297/297 [==============================] - 5s 15ms/step - loss: 4.1148 - val_loss: 4.2959\n",
      "Epoch 18/100\n",
      "297/297 [==============================] - 5s 15ms/step - loss: 4.0516 - val_loss: 4.2598\n",
      "Epoch 19/100\n",
      "297/297 [==============================] - 5s 16ms/step - loss: 3.9913 - val_loss: 4.2222\n",
      "Epoch 20/100\n",
      "297/297 [==============================] - 5s 15ms/step - loss: 3.9341 - val_loss: 4.1777\n",
      "Epoch 21/100\n",
      "297/297 [==============================] - 5s 15ms/step - loss: 3.8777 - val_loss: 4.1502\n",
      "Epoch 22/100\n",
      "297/297 [==============================] - 5s 15ms/step - loss: 3.8230 - val_loss: 4.1249\n",
      "Epoch 23/100\n",
      "297/297 [==============================] - 5s 15ms/step - loss: 3.7727 - val_loss: 4.0935\n",
      "Epoch 24/100\n",
      "297/297 [==============================] - 5s 15ms/step - loss: 3.7209 - val_loss: 4.0595\n",
      "Epoch 25/100\n",
      "297/297 [==============================] - 5s 15ms/step - loss: 3.6723 - val_loss: 4.0520\n",
      "Epoch 26/100\n",
      "297/297 [==============================] - 5s 15ms/step - loss: 3.6252 - val_loss: 4.0134\n",
      "Epoch 27/100\n",
      "297/297 [==============================] - 5s 15ms/step - loss: 3.5790 - val_loss: 3.9914\n",
      "Epoch 28/100\n",
      "297/297 [==============================] - 5s 15ms/step - loss: 3.5360 - val_loss: 3.9658\n",
      "Epoch 29/100\n",
      "297/297 [==============================] - 5s 15ms/step - loss: 3.4921 - val_loss: 3.9572\n",
      "Epoch 30/100\n",
      "297/297 [==============================] - 5s 15ms/step - loss: 3.4518 - val_loss: 3.9243\n",
      "Epoch 31/100\n",
      "297/297 [==============================] - 5s 15ms/step - loss: 3.4109 - val_loss: 3.9180\n",
      "Epoch 32/100\n",
      "297/297 [==============================] - 5s 15ms/step - loss: 3.3733 - val_loss: 3.9280\n",
      "Epoch 33/100\n",
      "297/297 [==============================] - 5s 15ms/step - loss: 3.3351 - val_loss: 3.8883\n",
      "Epoch 34/100\n",
      "297/297 [==============================] - 5s 15ms/step - loss: 3.2992 - val_loss: 3.8689\n",
      "Epoch 35/100\n",
      "297/297 [==============================] - 5s 16ms/step - loss: 3.2626 - val_loss: 3.8778\n",
      "Epoch 36/100\n",
      "297/297 [==============================] - 5s 15ms/step - loss: 3.2293 - val_loss: 3.8668\n",
      "Epoch 37/100\n",
      "297/297 [==============================] - 5s 15ms/step - loss: 3.1947 - val_loss: 3.8428\n",
      "Epoch 38/100\n",
      "297/297 [==============================] - 5s 15ms/step - loss: 3.1634 - val_loss: 3.8215\n",
      "Epoch 39/100\n",
      "297/297 [==============================] - 5s 15ms/step - loss: 3.1310 - val_loss: 3.8212\n",
      "Epoch 40/100\n",
      "297/297 [==============================] - 5s 15ms/step - loss: 3.1008 - val_loss: 3.8124\n",
      "Epoch 41/100\n",
      "297/297 [==============================] - 5s 15ms/step - loss: 3.0709 - val_loss: 3.8016\n",
      "Epoch 42/100\n",
      "297/297 [==============================] - 5s 15ms/step - loss: 3.0400 - val_loss: 3.7920\n",
      "Epoch 43/100\n",
      "297/297 [==============================] - 5s 15ms/step - loss: 3.0127 - val_loss: 3.7917\n",
      "Epoch 44/100\n",
      "297/297 [==============================] - 5s 15ms/step - loss: 2.9849 - val_loss: 3.7934\n",
      "Epoch 45/100\n",
      "297/297 [==============================] - 5s 15ms/step - loss: 2.9566 - val_loss: 3.7821\n",
      "Epoch 46/100\n",
      "297/297 [==============================] - 5s 15ms/step - loss: 2.9311 - val_loss: 3.7852\n",
      "Epoch 47/100\n",
      "297/297 [==============================] - 5s 15ms/step - loss: 2.9052 - val_loss: 3.7735\n",
      "Epoch 48/100\n",
      "297/297 [==============================] - 5s 15ms/step - loss: 2.8794 - val_loss: 3.7807\n",
      "Epoch 49/100\n",
      "297/297 [==============================] - 5s 15ms/step - loss: 2.8546 - val_loss: 3.7807\n",
      "Epoch 50/100\n",
      "297/297 [==============================] - 5s 15ms/step - loss: 2.8301 - val_loss: 3.7681\n",
      "Epoch 51/100\n",
      "297/297 [==============================] - 5s 15ms/step - loss: 2.8055 - val_loss: 3.7708\n",
      "Epoch 52/100\n",
      "297/297 [==============================] - 5s 15ms/step - loss: 2.7830 - val_loss: 3.7624\n",
      "Epoch 53/100\n",
      "297/297 [==============================] - 5s 15ms/step - loss: 2.7592 - val_loss: 3.7585\n",
      "Epoch 54/100\n",
      "297/297 [==============================] - 5s 15ms/step - loss: 2.7360 - val_loss: 3.7626\n",
      "Epoch 55/100\n",
      "297/297 [==============================] - 5s 15ms/step - loss: 2.7152 - val_loss: 3.7675\n",
      "Epoch 56/100\n",
      "297/297 [==============================] - 5s 15ms/step - loss: 2.6938 - val_loss: 3.7512\n",
      "Epoch 57/100\n",
      "297/297 [==============================] - 5s 15ms/step - loss: 2.6724 - val_loss: 3.7668\n",
      "Epoch 58/100\n",
      "297/297 [==============================] - 5s 15ms/step - loss: 2.6503 - val_loss: 3.7615\n",
      "Epoch 59/100\n",
      "297/297 [==============================] - 5s 15ms/step - loss: 2.6309 - val_loss: 3.7583\n",
      "Epoch 59: early stopping\n"
     ]
    }
   ],
   "source": [
    "model.compile(optimizer='rmsprop', loss='sparse_categorical_crossentropy')\n",
    "es = EarlyStopping(monitor='val_loss', patience=3, verbose=1)\n",
    "history = model.fit(x=[encoder_input_train, decoder_input_train], y=decoder_target_train, \\\n",
    "          validation_data=([encoder_input_test, decoder_input_test], decoder_target_test), \\\n",
    "          batch_size=256, callbacks=[es], epochs=100)"
   ]
  },
  {
   "cell_type": "code",
   "execution_count": 39,
   "metadata": {},
   "outputs": [
    {
     "data": {
      "image/png": "[encoded data removed]",
      "text/plain": [
       "<Figure size 640x480 with 1 Axes>"
      ]
     },
     "metadata": {},
     "output_type": "display_data"
    }
   ],
   "source": [
    "plt.plot(history.history['loss'], label='train')\n",
    "plt.plot(history.history['val_loss'], label='test')\n",
    "plt.legend()\n",
    "plt.show()"
   ]
  },
  {
   "cell_type": "code",
   "execution_count": 40,
   "metadata": {},
   "outputs": [],
   "source": [
    "src_index_to_word = src_tokenizer.index_word # 원문 단어 집합에서 정수 -> 단어를 얻음\n",
    "tar_word_to_index = tar_tokenizer.word_index # 요약 단어 집합에서 단어 -> 정수를 얻음\n",
    "tar_index_to_word = tar_tokenizer.index_word # 요약 단어 집합에서 정수 -> 단어를 얻음"
   ]
  },
  {
   "cell_type": "code",
   "execution_count": 41,
   "metadata": {},
   "outputs": [],
   "source": [
    "# 인코더 설계\n",
    "encoder_model = Model(inputs=encoder_inputs, outputs=[encoder_output3, state_h3, state_c3])\n",
    "\n",
    "# 이전 시점의 상태들을 저장하는 텐서\n",
    "decoder_state_input_h = Input(shape=(hidden_size,))\n",
    "decoder_state_input_c = Input(shape=(hidden_size,))\n",
    "\n",
    "dec_emb2 = dec_emb_layer(decoder_inputs)\n",
    "\n",
    "# 문장의 다음 단어를 예측하기 위해서 초기 상태(initial_state)를 이전 시점의 상태로 사용. 이는 뒤의 함수 decode_sequence()에 구현\n",
    "# 훈련 과정에서와 달리 LSTM의 리턴하는 은닉 상태와 셀 상태인 state_h와 state_c를 버리지 않음.\n",
    "decoder_outputs2, state_h2, state_c2 = decoder_lstm(dec_emb2, initial_state=[decoder_state_input_h, decoder_state_input_c])"
   ]
  },
  {
   "cell_type": "code",
   "execution_count": 42,
   "metadata": {},
   "outputs": [],
   "source": [
    "# 어텐션 함수\n",
    "decoder_hidden_state_input = Input(shape=(text_max_len, hidden_size))\n",
    "attn_out_inf = attn_layer([decoder_outputs2, decoder_hidden_state_input])\n",
    "decoder_inf_concat = Concatenate(axis=-1, name='concat')([decoder_outputs2, attn_out_inf])\n",
    "\n",
    "# 디코더의 출력층\n",
    "decoder_outputs2 = decoder_softmax_layer(decoder_inf_concat) \n",
    "\n",
    "# 최종 디코더 모델\n",
    "decoder_model = Model(\n",
    "    [decoder_inputs] + [decoder_hidden_state_input,decoder_state_input_h, decoder_state_input_c],\n",
    "    [decoder_outputs2] + [state_h2, state_c2])"
   ]
  },
  {
   "cell_type": "code",
   "execution_count": 43,
   "metadata": {},
   "outputs": [],
   "source": [
    "def decode_sequence(input_seq):\n",
    "    # 입력으로부터 인코더의 상태를 얻음\n",
    "    e_out, e_h, e_c = encoder_model.predict(input_seq, verbose=0)\n",
    "\n",
    "     # <SOS>에 해당하는 토큰 생성\n",
    "    target_seq = np.zeros((1,1))\n",
    "    target_seq[0, 0] = tar_word_to_index['sostoken']\n",
    "\n",
    "    stop_condition = False\n",
    "    decoded_sentence = ''\n",
    "    while not stop_condition: # stop_condition이 True가 될 때까지 루프 반복\n",
    "\n",
    "        output_tokens, h, c = decoder_model.predict(\n",
    "            [target_seq] + [e_out, e_h, e_c], verbose=0)\n",
    "        sampled_token_index = np.argmax(output_tokens[0, -1, :])\n",
    "        sampled_token = tar_index_to_word[sampled_token_index]\n",
    "\n",
    "        if (sampled_token!='eostoken'):\n",
    "            decoded_sentence += ' '+sampled_token\n",
    "\n",
    "        #  <eos>에 도달하거나 최대 길이를 넘으면 중단.\n",
    "        if (sampled_token == 'eostoken'  or len(decoded_sentence.split()) >= (summary_max_len-1)):\n",
    "            stop_condition = True\n",
    "\n",
    "        # 길이가 1인 타겟 시퀀스를 업데이트\n",
    "        target_seq = np.zeros((1,1))\n",
    "        target_seq[0, 0] = sampled_token_index\n",
    "\n",
    "        # 상태를 업데이트 합니다.\n",
    "        e_h, e_c = h, c\n",
    "\n",
    "    return decoded_sentence"
   ]
  },
  {
   "cell_type": "markdown",
   "metadata": {},
   "source": [
    "모델 테스트"
   ]
  },
  {
   "cell_type": "code",
   "execution_count": 44,
   "metadata": {},
   "outputs": [],
   "source": [
    "# 원문의 정수 시퀀스를 텍스트 시퀀스로 변환\n",
    "def seq2text(input_seq):\n",
    "    temp=''\n",
    "    for i in input_seq:\n",
    "        if (i!=0):\n",
    "            temp = temp + src_index_to_word[i]+' '\n",
    "    return temp\n",
    "\n",
    "# 요약문의 정수 시퀀스를 텍스트 시퀀스로 변환\n",
    "def seq2summary(input_seq):\n",
    "    temp = ''\n",
    "    for i in input_seq:\n",
    "        # 패딩(0), 시작(sos_token), 종료(eos_token) 토큰 제외\n",
    "        if i != 0 and i != 1 and i != 2:\n",
    "            temp += tar_index_to_word[i] + ' '\n",
    "    return temp"
   ]
  },
  {
   "cell_type": "code",
   "execution_count": 45,
   "metadata": {},
   "outputs": [
    {
     "name": "stdout",
     "output_type": "stream",
     "text": [
      "원문 : singer sang song jaguar jokingly said owners car brand paid making brand popular song song many seen places like chandigarh added joked jab next part definitely approaching \n",
      "실제 요약 : jaguar should have paid me for making the brand popular \n"
     ]
    },
    {
     "name": "stderr",
     "output_type": "stream",
     "text": [
      "2024-12-01 20:56:06.926013: W tensorflow/core/grappler/costs/op_level_cost_estimator.cc:693] Error in PredictCost() for the op: op: \"Softmax\" attr { key: \"T\" value { type: DT_FLOAT } } inputs { dtype: DT_FLOAT shape { unknown_rank: true } } device { type: \"GPU\" vendor: \"NVIDIA\" model: \"NVIDIA GeForce RTX 4090\" frequency: 2520 num_cores: 128 environment { key: \"architecture\" value: \"8.9\" } environment { key: \"cuda\" value: \"11080\" } environment { key: \"cudnn\" value: \"8600\" } num_registers: 65536 l1_cache_size: 24576 l2_cache_size: 75497472 shared_memory_size_per_multiprocessor: 102400 memory_size: 23341629440 bandwidth: 1008096000 } outputs { dtype: DT_FLOAT shape { unknown_rank: true } }\n"
     ]
    },
    {
     "name": "stdout",
     "output_type": "stream",
     "text": [
      "예측 요약 :  bieber buys bieber for song on song\n",
      "\n",
      "\n",
      "원문 : former indian shooter karmakar trolled twitter tweet took dig former indian cricketer sachin tendulkar commented bharat ratna reacting karmakar tweet user tweeted correct people wonder one knows \n",
      "실제 요약 : former indian shooter trolled for sachin \n",
      "예측 요약 :  thanks for sachin trolled for india\n",
      "\n",
      "\n",
      "원문 : pakistan banned special treatment given vips airports part new plan earlier vips including politicians military officials senior bureaucrats could avoid standing long queues get luggage cleared help officials decision give equal opportunities travellers without discrimination information minister fawad chaudhry said \n",
      "실제 요약 : pakistan bans special treatment for vips at airports \n",
      "예측 요약 :  pakistan bans visa to fight in india\n",
      "\n",
      "\n",
      "원문 : russian foreign ministry announced suspended syrian air safety agreement united states drawn ensure two countries planes collide russian spokesperson dmitry peskov said risk confrontation aerial assets us led coalition russia significantly increased us president donald trump ordered missile strikes \n",
      "실제 요약 : russia suspends air safety deal with us over syria strike \n",
      "예측 요약 :  russia russia to launch its own sea reports\n",
      "\n",
      "\n",
      "원문 : noida authority declined ramlila group demand regarding removal garbage noida stadium ramlila celebrations held noida authority officials said responsible garbage dumped spaces inside stadium ramlila group alleged authority earlier assured stadium would cleaned \n",
      "실제 요약 : noida authority refuses cleaning of stadium for \n",
      "예측 요약 :  noida police to get its own to counter traffic\n",
      "\n",
      "\n",
      "원문 : actor aamir khan monday took twitter digitally launch hindi trailer kamal haasan tamil film film whose hindi version titled also stars rahul bose shekhar kapur written directed haasan film scheduled release august \n",
      "실제 요약 : aamir launches hindi trailer of kamal haasan \n",
      "예측 요약 :  aamir khan to play in kamal mahabharata mahabharata\n",
      "\n",
      "\n",
      "원문 : actress esha gupta took instagram deny rumours dating fashion designer nikhil okay guys one closest best friends love friends friends one bffs lucky wrote esha added also find man single forever \n",
      "실제 요약 : esha gupta denies rumours of dating designer \n",
      "예측 요약 :  was told to be bella on rumours of dating sumeet\n",
      "\n",
      "\n",
      "원문 : talking deepika padukone ranveer singh wedding take place november manish malhotra said love ranveer deepika course wish best talking priyanka chopra nick jonas wedding reportedly take place december manish said wish happiness world \n",
      "실제 요약 : manish wishes deepika ranveer priyanka nick ahead of wedding \n",
      "예측 요약 :  deepika ranveer to get married on ranveer in mumbai\n",
      "\n",
      "\n",
      "원문 : cbi booked delhi based diamond exporter dwarka das seth international alleged crore fraud oriental bank commerce since dwarka das availed various credit facilities obc using letters credit foreign banks pay creditors purchasing precious metals continued till obc noticed banks poorly rated \n",
      "실제 요약 : how did delhi diamond obc of crore \n",
      "예측 요약 :  cbi books hyderabad bank for crore\n",
      "\n",
      "\n",
      "원문 : ranchi court monday pronounced rjd chief lalu prasad yadav guilty fourth fodder scam case case pertains fraudulent withdrawal crore treasury yadav bihar chief minister two decades ago yadav convicted three fodder scam cases currently serving jail sentences \n",
      "실제 요약 : lalu prasad yadav convicted in fourth fodder scam case \n",
      "예측 요약 :  lalu yadav gets bail in scam case\n",
      "\n",
      "\n",
      "원문 : apple ceo tim cook took home estimated pay crore pay primarily came lakh shares vested fiscal year along crore salary crore cash bonus perks worth crore cook highest earning ceo among us year \n",
      "실제 요약 : apple ceo tim cook earned crore in \n",
      "예측 요약 :  apple ceo tim cook pay cr to cr\n",
      "\n",
      "\n",
      "원문 : indian batsman rohit sharma revealed police threatened put jail breaking windows neighbourhood playing cricket friends childhood broken lot window glasses neighbours troubled us daily complained police rohit said added started playing ground incident \n",
      "실제 요약 : police threatened to jail me for breaking windows rohit \n",
      "예측 요약 :  rohit sharma apologises for wearing wearing clothes\n",
      "\n",
      "\n",
      "원문 : government wednesday introduced bill lok sabha allow voluntary use aadhaar services like opening bank accounts obtaining new sim cards bill also gives minors option opt aadhaar scheme upon turning years provides penalties crore violating provisions aadhaar act \n",
      "실제 요약 : govt bill to allow voluntary use of aadhaar for \n",
      "예측 요약 :  govt clears aadhaar on aadhaar bank to aadhaar\n",
      "\n",
      "\n",
      "원문 : amid facebook data scandal billionaire businessman anand mahindra invited relevant indian startups make country social networking company widely owned professionally managed regulated would like see assist seed capital year old mahindra group chairman added \n",
      "실제 요약 : mahindra invites indian startups to make social network \n",
      "예측 요약 :  mark zuckerberg mark zuckerberg joins facebook\n",
      "\n",
      "\n",
      "원문 : inshorts volunteer based organisation robin hood army released video introducing mission million initiative serve one million hungry citizens across india pakistan independence day idea behind mission drive citizens action draw awareness fact million citizens india pakistan sleep hungry every night \n",
      "실제 요약 : watch inshorts and robin hood army mission million on day \n",
      "예측 요약 :  robin hood hood hood hood army to join border\n",
      "\n",
      "\n",
      "원문 : passage prime minister narendra modi half yearly english examination conducted government schools rajasthan multiple spelling errors reports said passage read modi served chief minister four terms known puller district education authorities said expert committee examine matter \n",
      "실제 요약 : raj english exam on pm modi has spelling errors \n",
      "예측 요약 :  pm modi exam exam is not answer about corruption\n",
      "\n",
      "\n",
      "원문 : uk largest government owned lender royal bank scotland said cutting jobs country help handle loans small businesses lender plans shift many roles india part ongoing cost cutting drive rbs getting work done bank said moving jobs \n",
      "실제 요약 : to cut uk jobs will move them to india \n",
      "예측 요약 :  uk bank cuts pay salary for over late taxes\n",
      "\n",
      "\n",
      "원문 : four cyclists australia used gps draw goat six hour ride cyclists planned route help app kilometre journey around city perth one said basically drop little dots road plans directions \n",
      "실제 요약 : use gps to draw goat in australia \n",
      "예측 요약 :  australian town of people in us\n",
      "\n",
      "\n",
      "원문 : member bcci cricket advisory committee sourav ganguly said announcement india next coach scheduled july put hold committee needs consult captain virat kohli ganguly added process complete need time decide everyone page \n",
      "실제 요약 : need to talk to virat kohli before announcing coach bcci \n",
      "예측 요약 :  bcci should not be allowed to play bcci chief ganguly\n",
      "\n",
      "\n",
      "원문 : alleged letter islamic state threatening destroy eastern uttar pradesh surfaced varanasi save eastern uttar pradesh march read letter content letter also pakistan zindabad written intelligence agencies begun investigation matter \n",
      "실제 요약 : islamic state letter threatens to destroy eastern up \n",
      "예측 요약 :  will not be spared if you are their violence police\n",
      "\n",
      "\n",
      "원문 : former us president barack obama tweet response violence charlottesville virginia become liked post platform tweeted quote anti apartheid revolutionary nelson mandela series tweets along picture showing passing smile kids tweet received lakh likes \n",
      "실제 요약 : obama tweet virginia riots most liked ever \n",
      "예측 요약 :  obama obama shares video of his wife he is the\n",
      "\n",
      "\n",
      "원문 : mumbai metropolitan region development authority officials claimed fixed potholes mumbai far month said filled potholes km western express highway potholes km eastern express highway however residents complained use outdated technology faulty methods fix potholes \n",
      "실제 요약 : potholes filled by in mumbai this month \n",
      "예측 요약 :  mumbai civic body to mumbai for mumbai roads\n",
      "\n",
      "\n",
      "원문 : photograph german dictator adolf hitler hugging jewish girl sale us picture taken june hitler photographer signed german dictator hitler remained contact even became aware \n",
      "실제 요약 : photo of hitler hugging girl up for sale in us \n",
      "예측 요약 :  hitler is the first lady of the pope\n",
      "\n",
      "\n",
      "원문 : madhya pradesh left arm spinner manish majithia bowled overs took wicket without conceding run second innings railways ranji trophy match november first innings majithia registered figures last day railways scored runs overs manage draw \n",
      "실제 요약 : indian spinner once bowled overs without conceding run \n",
      "예측 요약 :  year old indian spinner in overs in overs\n",
      "\n",
      "\n",
      "원문 : song mere din fanney khan renamed lyrics changed song used trolls target government lyrics matched pm narendra modi political slogan acche din director atul manjrekar said new video released song unnecessarily taking political colour \n",
      "실제 요약 : fanney khan din trolled makers rename song \n",
      "예측 요약 :  song from lucknow song on lucknow central song\n",
      "\n",
      "\n",
      "원문 : messaging app whatsapp wednesday told government testing new label exclusively highlights forwarded messages prevent misuse could serve important signal recipients think twice messages said whatsapp comes government sent notice whatsapp mob lynchings rumours spread platform \n",
      "실제 요약 : testing new label forward texts whatsapp to govt \n",
      "예측 요약 :  whatsapp whatsapp to shut down in ad without its service\n",
      "\n",
      "\n",
      "원문 : app named sends notifications random intervals users five times day remind die app based bhutanese folk saying suggests humans death five times daily order happy app displays quotes death notification opened \n",
      "실제 요약 : app reminds users times day that they will die \n",
      "예측 요약 :  app lets users see their photos of its photos\n",
      "\n",
      "\n",
      "원문 : facebook user claimed ordered oneplus smartphone amazon india received detergent bars instead product delhi based user chirag dhawan added tried contact customer care given satisfactory response meanwhile people made hi jokes following viral post \n",
      "실제 요약 : amazon user orders smartphone gets bars instead \n",
      "예측 요약 :  amazon is not to delete amazon says google ceo\n",
      "\n",
      "\n",
      "원문 : maoist couple carrying lakh reward heads surrendered odisha police tuesday couple reportedly facing opposition relationship senior leaders become maoist ideology witnessed women exploitation group notably state provides assistance surrendered maoists want get married \n",
      "실제 요약 : maoist couple surrenders after leaders oppose relationship \n",
      "예측 요약 :  lakh students in assam police officer arrested\n",
      "\n",
      "\n",
      "원문 : us president donald trump called syrian president bashar al assad animal accused attacking people chemical weapons even worst world use kind gas use trump added also clarified united states go war syria \n",
      "실제 요약 : trump calls syrian president assad an animal \n",
      "예측 요약 :  trump is us of us president assad\n",
      "\n",
      "\n",
      "원문 : uae opened world longest zip line km long equivalent length football fields zip line atop uae highest mountain al enables visitors travel speed kmph handle lakh people year located feet sea level \n",
      "실제 요약 : uae opens longest line to football fields \n",
      "예측 요약 :  world longest plane breaks world first ever\n",
      "\n",
      "\n",
      "원문 : danish police investigating murder swedish journalist kim wall disappeared submarine trip denmark found head legs police said body parts discovered near place torso found august year found inside plastic bags heavy metal pieces make sink \n",
      "실제 요약 : police find severed head of missing swedish journalist \n",
      "예측 요약 :  journalist killed in us journalist murder of journalist\n",
      "\n",
      "\n",
      "원문 : kotak securities launched brokerage free intraday trading online platforms cash futures options unique product offering self trading online clients key benefits include zero account opening charges low brokerage delivery trades depth research support \n",
      "실제 요약 : kotak securities launches free trading \n",
      "예측 요약 :  india to shut down in the cars\n",
      "\n",
      "\n",
      "원문 : video showing dead man lying unattended madhya pradesh railway station gone viral man shooting video heard approaching railway staff police help avail police ordered inquiry matter denied reports man lying dead eight ten hours \n",
      "실제 요약 : video of dead man lying at mp station goes viral \n",
      "예측 요약 :  man burnt off car after being hit by locals in mp\n",
      "\n",
      "\n",
      "원문 : india sixth largest telecom operator aircel wednesday filed bankruptcy national company law tribunal claiming debt crore comes krishnan owned malaysian parent maxis communications refused infuse funds aircel notably aircel proposed merger anil ambani reliance communications failed last year \n",
      "실제 요약 : india sixth largest telco aircel files for bankruptcy \n",
      "예측 요약 :  bandhan bank of sebi to pay crore from december\n",
      "\n",
      "\n",
      "원문 : noida police busted fake call centre arrested people thursday receiving several complaints financial frauds accused used call people promising handsome returns life insurance policies police said running fake call centre last two years done transactions around crore police added \n",
      "실제 요약 : fake call centre busted arrested in noida \n",
      "예측 요약 :  arrested for duping people in mumbai\n",
      "\n",
      "\n",
      "원문 : subrata roy promoted sahara india life insurance monday moved securities appellate tribunal insurance regulator irdai orders transfer business icici prudential life insurance sahara life challenged order grounds business continuously profitable following sat put takeover hold week sought irdai response \n",
      "실제 요약 : icici takeover of sahara life put on hold \n",
      "예측 요약 :  essar steel to take life as insurance service for life\n",
      "\n",
      "\n",
      "원문 : returning evening prayer sunday two muslim clerics allegedly beaten bike borne men jharkhand ranchi chanting jai shri ram men armed sticks rods one clerics rushed hospital suffering severe injuries said stable condition \n",
      "실제 요약 : muslim clerics assaulted for not chanting jai shri ram \n",
      "예측 요약 :  kashmiri policemen in tricolour during tricolour in up\n",
      "\n",
      "\n",
      "원문 : andhra pradesh cm chandrababu naidu termed formation day telangana black day stating congress bjp andhra pradesh create telangana june andhra pradesh suffering split denied special status added meanwhile telangana cm chandrashekar rao said telangana become india state \n",
      "실제 요약 : andhra cm terms formation day of telangana as black day \n",
      "예측 요약 :  andhra cm naidu to attend himachal assembly\n",
      "\n",
      "\n",
      "원문 : reliance industries chairman mukesh ambani daughter isha ambani featured cover february edition vogue india dressed white shirt dress black skirt australian designer toni look ring cover story isha spoken work life marriage \n",
      "실제 요약 : isha ambani features on february cover of vogue magazine \n",
      "예측 요약 :  ambani gets first cover of filmfare fashion brand\n",
      "\n",
      "\n",
      "원문 : year old chinese double amputee monday reached summit mount everest four decades first attempt xia lost legs suffering failed everest expedition double amputee summit everest new mark achieved feat \n",
      "실제 요약 : double amputee everest years after first attempt \n",
      "예측 요약 :  year old dies after being hit by everest\n",
      "\n",
      "\n",
      "원문 : mitsubishi materials admitted three subsidiaries manipulated inspection data parts used aircraft automobiles industrial machinery data falsified around million units sold april september total customers following company shares plunged much intraday trade tokyo \n",
      "실제 요약 : admits data of products \n",
      "예측 요약 :  starbucks to recall crore in us\n",
      "\n",
      "\n",
      "원문 : multiple explosions occurred rishikesh badrinath highway friday morning truck carrying lpg cylinders burst flames video incident emerged shows least eight explosions occurring truck yatra affected injuries reported reason accident still unknown \n",
      "실제 요약 : truck carrying lpg explodes on highway \n",
      "예측 요약 :  villagers into vehicle vehicle in west bengal\n",
      "\n",
      "\n",
      "원문 : animal rights group peta slammed luxury department store selling stuffed toy worth lakh made real rabbit fur toy uses rabbit breed specifically bred fur meat legal fight fur trade protesters demonstrated outside store lady gaga performance \n",
      "실제 요약 : store slammed for lakh soft toy made from real rabbit \n",
      "예측 요약 :  uk police to get its first car delivery system\n",
      "\n",
      "\n",
      "원문 : iit gandhinagar researchers claim created world material measuring one times thinner sheet paper material made using first time atoms structure scientists earlier made single atom thick graphene form carbon whose discovery physics nobel \n",
      "실제 요약 : iit team develops material times than paper \n",
      "예측 요약 :  scientists claim world record\n",
      "\n",
      "\n",
      "원문 : missouri tuesday became first state us enact law banning word meat sell anything derived harvested production livestock poultry manufacturers able use word market lab grown plant based meat four organisations filed injunction law \n",
      "실제 요약 : us state bans use of word meat for lab grown meat \n",
      "예측 요약 :  us opens its first act for cannabis\n",
      "\n",
      "\n",
      "원문 : paris banned sexist discriminatory ads billboards ban proposed department equality women men fight discrimination includes image deemed defame nationality religion sex age paris preventing images certain categories citizens officials said \n",
      "실제 요약 : paris bans sexist discriminatory ads on billboards \n",
      "예측 요약 :  germany bans court ban on gay gay rules\n",
      "\n",
      "\n",
      "원문 : tokyo olympics paralympics selected elementary school kids unveiled wednesday olympics mascot blue checked eyed character ears special powers paralympics mascot sports pink checks talk stones wind total million children cast vote select \n",
      "실제 요약 : mascot chosen by children for tokyo olympics unveiled \n",
      "예측 요약 :  world largest cricket winner builds ice for the world\n",
      "\n",
      "\n",
      "원문 : united airlines ceo oscar munoz asked employees commit zero tolerance policy sexual harassment important change policies change mindset one listen one another munoz said earlier facebook ceo mark zuckerberg sister zuckerberg alleged sexual harassment male passenger alaska airlines flight \n",
      "실제 요약 : show zero tolerance on sexual harassment united airlines \n",
      "예측 요약 :  we are the ceo of sexual harassment ceo\n",
      "\n",
      "\n",
      "원문 : saif ali khan given changes might happen core team sacred games season amid harassment allegations bear even anyone us saif said show co director anurag kashyap accused shielding vikas bahl alleged sexual harassment case \n",
      "실제 요약 : saif hints at changes in sacred games team amid harassment row \n",
      "예측 요약 :  will not be sacred games if female players saif ali khan\n",
      "\n",
      "\n"
     ]
    }
   ],
   "source": [
    "for i in range(50, 100):\n",
    "    print(\"원문 :\", seq2text(encoder_input_test[i]))\n",
    "    print(\"실제 요약 :\", seq2summary(decoder_input_test[i]))\n",
    "    print(\"예측 요약 :\", decode_sequence(\n",
    "        encoder_input_test[i].reshape(1, text_max_len)))\n",
    "    print(\"\\n\")"
   ]
  },
  {
   "cell_type": "markdown",
   "metadata": {},
   "source": [
    "추출적 요약"
   ]
  },
  {
   "cell_type": "code",
   "execution_count": 46,
   "metadata": {},
   "outputs": [],
   "source": [
    "import requests\n",
    "from summa.summarizer import summarize"
   ]
  },
  {
   "cell_type": "code",
   "execution_count": 47,
   "metadata": {},
   "outputs": [],
   "source": [
    "data = pd.read_csv('./data/news_summary_more.csv')"
   ]
  },
  {
   "cell_type": "code",
   "execution_count": 48,
   "metadata": {},
   "outputs": [],
   "source": [
    "texts = data['text'].iloc[:10].astype(str).tolist()"
   ]
  },
  {
   "cell_type": "code",
   "execution_count": 55,
   "metadata": {},
   "outputs": [
    {
     "name": "stdout",
     "output_type": "stream",
     "text": [
      "원문:  Saurav Kant, an alumnus of upGrad and IIIT-B's PG Program in Machine learning and Artificial Intelligence, was a Sr Systems Engineer at Infosys with almost 5 years of work experience. The program and upGrad's 360-degree career support helped him transition to a Data Scientist at Tech Mahindra with 90% salary hike. upGrad's Online Power Learning has powered 3 lakh+ careers.\n",
      "요약:  The program and upGrad's 360-degree career support helped him transition to a Data Scientist at Tech Mahindra with 90% salary hike.\n",
      "upGrad's Online Power Learning has powered 3 lakh+ careers.\n",
      "\n",
      "원문:  Kunal Shah's credit card bill payment platform, CRED, gave users a chance to win free food from Swiggy for one year. Pranav Kaushik, a Delhi techie, bagged this reward after spending 2000 CRED coins. Users get one CRED coin per rupee of bill paid, which can be used to avail rewards from brands like Ixigo, BookMyShow, UberEats, Cult.Fit and more.\n",
      "요약:  Users get one CRED coin per rupee of bill paid, which can be used to avail rewards from brands like Ixigo, BookMyShow, UberEats, Cult.Fit and more.\n",
      "\n",
      "원문:  New Zealand defeated India by 8 wickets in the fourth ODI at Hamilton on Thursday to win their first match of the five-match ODI series. India lost an international match under Rohit Sharma's captaincy after 12 consecutive victories dating back to March 2018. The match witnessed India getting all out for 92, their seventh lowest total in ODI cricket history.\n",
      "요약:  The match witnessed India getting all out for 92, their seventh lowest total in ODI cricket history.\n",
      "\n",
      "원문:  With Aegon Life iTerm Insurance plan, customers can enjoy tax benefits on your premiums paid and save up to â¹46,800^ on taxes. The plan provides life cover up to the age of 100 years. Also, customers have options to insure against Critical Illnesses, Disability and Accidental Death Benefit Rider with a life cover up to the age of 80 years.\n",
      "요약:  Also, customers have options to insure against Critical Illnesses, Disability and Accidental Death Benefit Rider with a life cover up to the age of 80 years.\n",
      "\n",
      "원문:  Speaking about the sexual harassment allegations against Rajkumar Hirani, Sonam Kapoor said, \"I've known Hirani for many years...What if it's not true, the [#MeToo] movement will get derailed.\" \"In the #MeToo movement, I always believe a woman. But in this case, we need to reserve our judgment,\" she added. Hirani has been accused by an assistant who worked in 'Sanju'.\n",
      "요약:  Speaking about the sexual harassment allegations against Rajkumar Hirani, Sonam Kapoor said, \"I've known Hirani for many years...What if it's not true, the [#MeToo] movement will get derailed.\" \"In the #MeToo movement, I always believe a woman.\n",
      "\n",
      "원문:  Pakistani singer Rahat Fateh Ali Khan has denied receiving any notice from the Enforcement Directorate over allegedly smuggling foreign currency out of India. \"It would have been better if the authorities would have served the notice first if any and then publicised this,\" reads a press release issued on behalf of Rahat. The statement further called the allegation \"bizarre\".\n",
      "요약:  Pakistani singer Rahat Fateh Ali Khan has denied receiving any notice from the Enforcement Directorate over allegedly smuggling foreign currency out of India.\n",
      "\n",
      "원문:  India recorded their lowest ODI total in New Zealand after getting all out for 92 runs in 30.5 overs in the fourth ODI at Hamilton on Thursday. Seven of India's batsmen were dismissed for single-digit scores, while their number ten batsman Yuzvendra Chahal top-scored with 18*(37). India's previous lowest ODI total in New Zealand was 108.\n",
      "요약:  India's previous lowest ODI total in New Zealand was 108.\n",
      "\n",
      "원문:  Weeks after ex-CBI Director Alok Verma told the Department of Personnel and Training to consider him retired, the Home Ministry asked him to join work on the last day of his fixed tenure as Director on Thursday. The ministry directed him to immediately join as DG, Fire Services, the post he was transferred to after his removal as CBI chief.\n",
      "요약:  Weeks after ex-CBI Director Alok Verma told the Department of Personnel and Training to consider him retired, the Home Ministry asked him to join work on the last day of his fixed tenure as Director on Thursday.\n",
      "\n",
      "원문:  Andhra Pradesh CM N Chandrababu Naidu has said, \"When I met then US President Bill Clinton, I addressed him as Mr Clinton, not as 'sir'. (PM Narendra) Modi is my junior in politics...I addressed him as sir 10 times.\" \"I did this...to satisfy his ego in the hope that he will do justice to the state,\" he added.\n",
      "요약:  Andhra Pradesh CM N Chandrababu Naidu has said, \"When I met then US President Bill Clinton, I addressed him as Mr Clinton, not as 'sir'.\n",
      "\n",
      "원문:  Congress candidate Shafia Zubair won the Ramgarh Assembly seat in Rajasthan, by defeating BJP's Sukhwant Singh with a margin of 12,228 votes in the bypoll. With this victory, Congress has taken its total to 100 seats in the 200-member assembly. The election to the Ramgarh seat was delayed due to the death of sitting MLA and BSP candidate Laxman Singh.\n",
      "요약:  Congress candidate Shafia Zubair won the Ramgarh Assembly seat in Rajasthan, by defeating BJP's Sukhwant Singh with a margin of 12,228 votes in the bypoll.\n",
      "\n"
     ]
    }
   ],
   "source": [
    "for text in texts:\n",
    "    print('원문: ', text)\n",
    "    print('요약: ', summarize(text, words=20))\n",
    "    print()"
   ]
  },
  {
   "cell_type": "markdown",
   "metadata": {},
   "source": [
    "## 결론\n",
    "문법 완성도 : 추상적 요약 > 추출적 요약    \n",
    "핵심단어 포함 : 추상적 요약 < 추출적 요약\n",
    "\n",
    "사실 전반적인 문법 완성도는 추상적 요약 모델이 학습이 아주 잘 된 것이 아니라 원래 문장 그대로를 뽑아내는 추출적 요약에 조금 밀렸다.    \n",
    "하지만, 추출적 요약은 자연스럽게 요약했다기보다는 원문 그대로를 인용한 모습을 보였다.   \n",
    "따라서 충분히 잘 학습된 모델을 사용하면 문법 완성도는 추상적 요약이 유리하고, 핵심단어는 추출적 요약이 유리한 경향을 보일 것이다.\n"
   ]
  }
 ],
 "metadata": {
  "kernelspec": {
   "display_name": "Python 3",
   "language": "python",
   "name": "python3"
  },
  "language_info": {
   "codemirror_mode": {
    "name": "ipython",
    "version": 3
   },
   "file_extension": ".py",
   "mimetype": "text/x-python",
   "name": "python",
   "nbconvert_exporter": "python",
   "pygments_lexer": "ipython3",
   "version": "3.11.0rc1"
  }
 },
 "nbformat": 4,
 "nbformat_minor": 2
}
